{
 "cells": [
  {
   "cell_type": "markdown",
   "metadata": {},
   "source": [
    "# Ansible beyond YAML\n",
    "\n",
    "Michael Scherer\n",
    "\n",
    "sysadmin @OSAS\n",
    "\n",
    "## Quick overview\n",
    "\n",
    "- Orchestration tool\n",
    "\n",
    "`ansible -i list_of_servers -m shell -a 'yum upgrade bash' all`\n",
    "\n",
    "can import `ansible.runner.Runner()` to do same thing\n",
    "\n",
    "For new connection make a module in `lib/ansible/runner/connection_plugins`\n",
    "\n",
    "Use jinja + YAML to make dynamic playbooks\n",
    "\n",
    "Look at  `lib/ansible/runner/lookup_plugins/env.py`\n",
    "\n",
    "Modules have to work with Python 2.4 if you want it included in core library.  Due to Ansible supporting RHEL5.\n",
    "\n"
   ]
  },
  {
   "cell_type": "code",
   "execution_count": null,
   "metadata": {
    "collapsed": true
   },
   "outputs": [],
   "source": []
  }
 ],
 "metadata": {
  "kernelspec": {
   "display_name": "Python 2",
   "language": "python",
   "name": "python2"
  },
  "language_info": {
   "codemirror_mode": {
    "name": "ipython",
    "version": 2
   },
   "file_extension": ".py",
   "mimetype": "text/x-python",
   "name": "python",
   "nbconvert_exporter": "python",
   "pygments_lexer": "ipython2",
   "version": "2.7.5"
  }
 },
 "nbformat": 4,
 "nbformat_minor": 0
}
