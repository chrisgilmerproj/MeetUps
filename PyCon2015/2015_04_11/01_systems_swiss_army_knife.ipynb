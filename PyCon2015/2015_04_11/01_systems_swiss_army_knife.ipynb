{
 "cells": [
  {
   "cell_type": "markdown",
   "metadata": {},
   "source": [
    "# Spying on your programs\n",
    "\n",
    "Julia Evans\n",
    "\n",
    "## Find config\n",
    "\n",
    "`strace <progname>`\n",
    "\n",
    "## Odd network\n",
    "\n",
    "`ngrep -d lo 5000`\n",
    "\n",
    "- `ngrep`\n",
    "- `tcpdump`\n",
    "- `wireshark`\n",
    "- `mitmproxy`\n",
    "\n",
    "## Slow Programs\n",
    "\n",
    "- `time`\n",
    "- `sudo cat /proc/<PID>/stack`\n",
    "- `dstat -d`\n"
   ]
  },
  {
   "cell_type": "code",
   "execution_count": null,
   "metadata": {
    "collapsed": true
   },
   "outputs": [],
   "source": []
  }
 ],
 "metadata": {
  "kernelspec": {
   "display_name": "Python 2",
   "language": "python",
   "name": "python2"
  },
  "language_info": {
   "codemirror_mode": {
    "name": "ipython",
    "version": 2
   },
   "file_extension": ".py",
   "mimetype": "text/x-python",
   "name": "python",
   "nbconvert_exporter": "python",
   "pygments_lexer": "ipython2",
   "version": "2.7.5"
  }
 },
 "nbformat": 4,
 "nbformat_minor": 0
}
