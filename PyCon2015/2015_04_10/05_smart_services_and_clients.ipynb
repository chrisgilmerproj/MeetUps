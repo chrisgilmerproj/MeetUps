{
 "cells": [
  {
   "cell_type": "markdown",
   "metadata": {},
   "source": [
    "Smart Services and Smart Clients\n",
    "\n",
    "Runscope\n",
    "\n",
    "Frank Stratton\n",
    "\n",
    "Microservices = Service Oriented Architecture (SOA) + DevOps\n",
    "\n",
    "Service discoverability (Smart Client)\n",
    "\n",
    "create service urls\n",
    "\n",
    "- service://identity/teams\n",
    "\n",
    "Smart Client:\n",
    "\n",
    "- translate service url to hostname\n",
    "- retry failed get/put/delete (idempotent) requests\n",
    "- run http requests async\n",
    "\n",
    "Service: Atlas\n",
    "\n",
    "- DynamoDB\n",
    "- Zookeeper\n",
    "\n",
    "Add sidecar (haproxy on each host)\n",
    "\n",
    "use acl in haproxy\n",
    "\n",
    "runscope/healthcheck\n",
    "\n",
    "Made a SmartService\n",
    "\n",
    "\n",
    "They use puppet for all init scripts, monitoring\n",
    "\n",
    "Use Go code\n",
    "\n",
    "\"No shared databases\"\n",
    "\n",
    "Make deploying code easy\n",
    "\n",
    "Deploy early, deploy often\n",
    "\n"
   ]
  },
  {
   "cell_type": "code",
   "execution_count": null,
   "metadata": {
    "collapsed": true
   },
   "outputs": [],
   "source": []
  }
 ],
 "metadata": {
  "kernelspec": {
   "display_name": "Python 2",
   "language": "python",
   "name": "python2"
  },
  "language_info": {
   "codemirror_mode": {
    "name": "ipython",
    "version": 2
   },
   "file_extension": ".py",
   "mimetype": "text/x-python",
   "name": "python",
   "nbconvert_exporter": "python",
   "pygments_lexer": "ipython2",
   "version": "2.7.5"
  }
 },
 "nbformat": 4,
 "nbformat_minor": 0
}
