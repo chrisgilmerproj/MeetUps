{
 "cells": [
  {
   "cell_type": "markdown",
   "metadata": {},
   "source": [
    "Distributed Systems\n",
    "\n",
    "by lvm\n",
    "\n",
    "\n",
    "Pick two:\n",
    "\n",
    "- Consistency (linearizability)\n",
    "- Availability (All active nodes answer every query)\n",
    "- Partition Tolerant (resistance to failures)\n",
    "\n",
    "\n",
    "AP or CP, no AC\n",
    "\n",
    "CP example: Zookeeper (Consistent operations that sometimes fail)\n",
    "\n",
    "AP example: Cassandra (insconsistent operations that don't fail)\n",
    "\n",
    "Real failures are partial or complex\n",
    "\n",
    "Partition tolerance is required, but can gradient between Availability and Consistency\n",
    "\n",
    "example of creative sacrifice: etcd\n",
    "\n",
    "- Normally: consistency all the way\n",
    "- Option of doing inconsistent reads\n",
    "- Maybe get stale data\n",
    "- Works under partial failure\n",
    "\n",
    "The set of things that can happen = \"Consistency Model\"\n",
    "\n",
    "Look into CRDT (check out Riak)"
   ]
  }
 ],
 "metadata": {
  "kernelspec": {
   "display_name": "Python 2",
   "language": "python",
   "name": "python2"
  },
  "language_info": {
   "codemirror_mode": {
    "name": "ipython",
    "version": 2
   },
   "file_extension": ".py",
   "mimetype": "text/x-python",
   "name": "python",
   "nbconvert_exporter": "python",
   "pygments_lexer": "ipython2",
   "version": "2.7.5"
  }
 },
 "nbformat": 4,
 "nbformat_minor": 0
}
