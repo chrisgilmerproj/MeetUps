{
 "cells": [
  {
   "cell_type": "markdown",
   "metadata": {},
   "source": [
    "# Porting Python to run without an OS\n",
    "\n",
    "Josh Triplett\n",
    "\n",
    "Ported Python to GRUB to run on BIOS and EFI\n",
    "\n",
    "## Why?\n",
    "\n",
    "- Testing hardware, BIOS, ACPI, and EFI\n",
    "- To replace myriad one-off tools targeting DOS or EFI\n",
    "- To avoid writing more C code, or pseudo-shell with C Expressions\n",
    "- As an exploratory environment\n",
    "\n",
    "## What?\n",
    "\n",
    "- 32-bit on BIOS\n",
    "- 32/64-bit EFI\n",
    "- CPython 2.7\n",
    "- Interactive REPL\n",
    "- Most of stdlib\n",
    "- Additonal modules for CPU, SMP, ACPI, EFI...\n",
    "- Test suite\n",
    "\n",
    "## How?\n",
    "\n",
    "- Can't use Python's configure and make\n",
    "- no GNU target string for GRUB\n",
    "- No target headers in 'default' path for toolchain\n",
    "\n",
    "- Added all of necessary python source files\n",
    "- Manually write pyconfig.h\n",
    "- Provide functions python expectes (fstat/isatty/lseek, ungetc, qsort, fdlibm, printf/sprintf\n",
    "\n",
    "## Performance issues\n",
    "\n",
    "- slow boot time\n",
    "- python parser reads characters and uses ungetc\n",
    "- minimal disk caching\n",
    "- compile python on host, use it to byte compile into pyc files\n",
    "- no mtime support, so zero the mtime\n",
    "- still slow due to stat\n",
    "- zipimport\n",
    "\n",
    "## Readline\n",
    "\n",
    "- history and completion\n",
    "- depends on posix and tty\n",
    "- didn't want to write C code\n",
    "- wrote pythons readline in python\n",
    "- python eating its own tail\n",
    "\n",
    "## (python) filesystem\n",
    "\n",
    "- wanted to construct dynamic menus in GRUB\n",
    "- added python device system\n"
   ]
  }
 ],
 "metadata": {
  "kernelspec": {
   "display_name": "Python 2",
   "language": "python",
   "name": "python2"
  },
  "language_info": {
   "codemirror_mode": {
    "name": "ipython",
    "version": 2
   },
   "file_extension": ".py",
   "mimetype": "text/x-python",
   "name": "python",
   "nbconvert_exporter": "python",
   "pygments_lexer": "ipython2",
   "version": "2.7.5"
  }
 },
 "nbformat": 4,
 "nbformat_minor": 0
}
