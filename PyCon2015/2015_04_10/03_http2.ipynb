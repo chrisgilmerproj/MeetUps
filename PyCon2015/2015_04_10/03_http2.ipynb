{
 "cells": [
  {
   "cell_type": "markdown",
   "metadata": {},
   "source": [
    "# Hyperactive: HTTP/2 and Python\n",
    "\n",
    "Cory Benfield\n",
    "\n",
    "@lukasaoz - twitter\n",
    "\n",
    "@lukasa - github\n",
    "\n",
    "HTTP/1.1 is old (1996)\n",
    "\n",
    "HTTP/2 is the update\n",
    "\n",
    "- Binary protocol replaces text protocol\n",
    "- Uses frames\n",
    "- Speeds things up\n",
    "\n",
    "Efficiency:\n",
    "\n",
    "- Multiplexing (with priority/flow control)\n",
    "- Header compression (HPACK)\n",
    "- Early stream termination\n",
    "- Server push\n",
    "\n",
    "Imperfect:\n",
    "\n",
    "- Difficult to reason about\n",
    "- Challening to debug\n",
    "- Awkward edge cases\n",
    "- Inherently concurrent\n",
    "- Must handle HTTP/1.1\n",
    "\n",
    "Implementations:\n",
    "\n",
    "- https://github.com/lukasa/hyper\n",
    "- nghttp2\n",
    "- Firefox & Chrome\n",
    "- Wireshark\n",
    "- curl & libcurl"
   ]
  },
  {
   "cell_type": "code",
   "execution_count": null,
   "metadata": {
    "collapsed": true
   },
   "outputs": [],
   "source": []
  }
 ],
 "metadata": {
  "kernelspec": {
   "display_name": "Python 2",
   "language": "python",
   "name": "python2"
  },
  "language_info": {
   "codemirror_mode": {
    "name": "ipython",
    "version": 2
   },
   "file_extension": ".py",
   "mimetype": "text/x-python",
   "name": "python",
   "nbconvert_exporter": "python",
   "pygments_lexer": "ipython2",
   "version": "2.7.5"
  }
 },
 "nbformat": 4,
 "nbformat_minor": 0
}
