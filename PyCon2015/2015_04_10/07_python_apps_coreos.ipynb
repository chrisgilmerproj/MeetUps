{
 "cells": [
  {
   "cell_type": "markdown",
   "metadata": {},
   "source": [
    "# Python on CoreOS\n",
    "\n",
    "Dan Callahan\n",
    "\n",
    "@callahad\n",
    "\n",
    "Containerization on backend server stack\n",
    "\n",
    "Looking at CoreOS, designed for containers\n",
    "\n",
    "Ideal platform: (laziness) \n",
    "\n",
    "1. stay updated\n",
    "2. won't break apps\n",
    "3. survives outages\n",
    "\n",
    "Need something declarative\n",
    "\n",
    "\"Faith based devops\"\n",
    "\n",
    "Need:\n",
    "\n",
    "1. System Updates (Fastpatch)\n",
    "2. Application Isolation (Docker/rkt as Containers)\n",
    "3. Clustering (etcd for consensus)\n",
    "4. Task distribution (Fleet/Kubernetes for scheduling)\n",
    "\n",
    "Updates:\n",
    "\n",
    "Staying up to date is key to good security\n",
    "\n",
    "Three partitions:\n",
    "\n",
    "- A (on), B (off), Data\n",
    "- B updates offline\n",
    "- Reboot/Restart and B takes over\n",
    "- atomic updates\n",
    "\n",
    "Use etcd to do clustering\n",
    "\n",
    "- Key value store\n",
    "- Capture metadata about cluster\n",
    "\n",
    "Use locksmith with etcd to apply locking to updates\n",
    "\n",
    "- Must aquire lock before reboot\n",
    "- Can't apply bad patches\n",
    "\n",
    "How many servers now? Trick is clustering etcd\n",
    "\n",
    "- Nx coreos\n",
    "- 3x-5x etcd (See \"Chubby\" paper by Google) (etcd uses RAFT consensus algo)\n",
    "\n",
    "Etcd is reusable\n",
    "\n",
    "Containerization with Docker/rkt\n",
    "\n",
    "CoreOS is minimal\n",
    "\n",
    "Scheduling with Fleet/Kubernetes (built on etcd)\n",
    "\n",
    "Fleet = Clustered interface for systemd\n",
    "\n",
    "many X-Fleet attributes\n",
    "\n",
    "What about db's or lb's?\n",
    "\n",
    "github.com/callahad/pycon2015-coreos\n",
    "\n"
   ]
  },
  {
   "cell_type": "code",
   "execution_count": null,
   "metadata": {
    "collapsed": true
   },
   "outputs": [],
   "source": [
    "\n"
   ]
  }
 ],
 "metadata": {
  "kernelspec": {
   "display_name": "Python 2",
   "language": "python",
   "name": "python2"
  },
  "language_info": {
   "codemirror_mode": {
    "name": "ipython",
    "version": 2
   },
   "file_extension": ".py",
   "mimetype": "text/x-python",
   "name": "python",
   "nbconvert_exporter": "python",
   "pygments_lexer": "ipython2",
   "version": "2.7.5"
  }
 },
 "nbformat": 4,
 "nbformat_minor": 0
}
