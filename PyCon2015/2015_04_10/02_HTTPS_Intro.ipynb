{
 "cells": [
  {
   "cell_type": "markdown",
   "metadata": {},
   "source": [
    "# Introduction to HTTPS\n",
    "\n",
    "Ashwini Oruganti\n",
    "\n",
    "Use Python 2.7.9 to validate certificates\n",
    "\n",
    "Types of attacks\n",
    "\n",
    "- Passive (listening)\n",
    "- Active (MITM)\n",
    "\n",
    "TLS (http/tls/tcp/ip)\n",
    "\n",
    "SSL vs TLS\n",
    "\n",
    "Secure Socket Layer - old (1996)\n",
    "\n",
    "Transport Layer Security - new (1999, 2008)\n",
    "\n",
    "- Authentication: Certificates (can I trust this website?)\n",
    "- Encryption: Math!\n",
    "\n",
    "\n",
    "\n",
    "API's should be opinionated to prevent bad decision making."
   ]
  },
  {
   "cell_type": "code",
   "execution_count": null,
   "metadata": {
    "collapsed": true
   },
   "outputs": [],
   "source": []
  }
 ],
 "metadata": {
  "kernelspec": {
   "display_name": "Python 2",
   "language": "python",
   "name": "python2"
  },
  "language_info": {
   "codemirror_mode": {
    "name": "ipython",
    "version": 2
   },
   "file_extension": ".py",
   "mimetype": "text/x-python",
   "name": "python",
   "nbconvert_exporter": "python",
   "pygments_lexer": "ipython2",
   "version": "2.7.5"
  }
 },
 "nbformat": 4,
 "nbformat_minor": 0
}
