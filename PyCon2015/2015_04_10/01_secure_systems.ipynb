{
 "cells": [
  {
   "cell_type": "markdown",
   "metadata": {},
   "source": [
    "### Building Secure Software\n",
    "\n",
    "by lvh\n",
    "\n",
    "www.lvh.io/buildingsecuresoftware\n",
    "\n",
    "- Bad News\n",
    "- Good News\n",
    "- Meta-Conversation\n",
    "\n",
    "The problem:\n",
    "- software have bugs\n",
    "- security implications\n",
    "\n",
    "Hope: We can do better\n",
    "\n",
    "Learn software by installing, try to break, repeat\n",
    "\n",
    "Principle of Least Authority\n",
    "\n",
    "Small, composable pieces are better than monolithic apps\n",
    "\n",
    "Security is all about attack surface.\n",
    "\n",
    "Security is about understanding your threat model.\n",
    "\n",
    "Useful way to plan security:\n",
    "\n",
    "1. Description\n",
    "2. Threat model ( + description) (what are you trying to defend against, how is it addressed now?, how will that change?)\n",
    "3. Affect attack surface\n",
    "4. Affect user experience\n",
    "\n",
    "The smartphone is a good security example to think through.\n",
    "\n",
    "- Lock screens > no lock screen\n",
    "- Biometrics, pass codes, patterns\n",
    "\n",
    "Biometrics problems:\n",
    "\n",
    "- Key rotation can't happen\n",
    "- How to separate capabilities\n",
    "\n",
    "Secrets problems:\n",
    "\n",
    "- People pick poor secrets\n",
    "- Shoulder surfing\n",
    "\n",
    "Passwords are secrets, fingerprints are not.\n",
    "\n",
    "Which is more secure? Depends on threat model.\n",
    "\n",
    "- Random people: biometrics\n",
    "- Law enforcement: passwords\n",
    "\n",
    "Without understanding your threat model you can make changes that arguably make you more secure but don't protect you against your threat model.\n",
    "\n",
    "Should look at two factor keys for getting into systems."
   ]
  },
  {
   "cell_type": "code",
   "execution_count": null,
   "metadata": {
    "collapsed": true
   },
   "outputs": [],
   "source": []
  }
 ],
 "metadata": {
  "kernelspec": {
   "display_name": "Python 2",
   "language": "python",
   "name": "python2"
  },
  "language_info": {
   "codemirror_mode": {
    "name": "ipython",
    "version": 2
   },
   "file_extension": ".py",
   "mimetype": "text/x-python",
   "name": "python",
   "nbconvert_exporter": "python",
   "pygments_lexer": "ipython2",
   "version": "2.7.5"
  }
 },
 "nbformat": 4,
 "nbformat_minor": 0
}
