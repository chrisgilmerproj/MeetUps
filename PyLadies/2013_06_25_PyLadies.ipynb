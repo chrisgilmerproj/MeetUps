{
 "metadata": {
  "name": "PyLadies_2013_06_25"
 },
 "nbformat": 3,
 "nbformat_minor": 0,
 "worksheets": [
  {
   "cells": [
    {
     "cell_type": "raw",
     "metadata": {},
     "source": [
      "PyLadies @ EventBrite 2013/06/25"
     ]
    },
    {
     "cell_type": "raw",
     "metadata": {},
     "source": [
      "Caching!\n",
      "Julia H Grace @JEWELIA\n",
      "\n",
      "www.tindie.com\n",
      "be smart about caching\n",
      "avoid excessive computation\n",
      "@ github.com/ionrock/cachecontrol\n",
      "can rely on other people's cache in some instances\n",
      "Johnny Cache"
     ]
    },
    {
     "cell_type": "raw",
     "metadata": {},
     "source": [
      "How to choose an open source project\n",
      "Susan Tan @ArcTanSusan"
     ]
    },
    {
     "cell_type": "raw",
     "metadata": {},
     "source": [
      "Susan Salked\n",
      "BeautifulSoup\n",
      "\n",
      "Use css selectors\n",
      "Use SoupStrainer for speed"
     ]
    },
    {
     "cell_type": "raw",
     "metadata": {},
     "source": [
      "Emily Dong @emiidee\n",
      "Getting Started with Python\n",
      "\n",
      "Udacity, coursera, udemy\n",
      "Foundations of CS, Stanford, CS106a (JAVA!)\n",
      "Hitchhikers guide, python tutorial, dive into python, python the hard way\n",
      "Dig into frameworks"
     ]
    },
    {
     "cell_type": "raw",
     "metadata": {},
     "source": [
      "Wendy Kan @wendykan\n",
      "Jump-start in data science competitions\n",
      "\n",
      "https://www.kaggle.com/competitions\n",
      "Try out the 101 competitions"
     ]
    },
    {
     "cell_type": "raw",
     "metadata": {},
     "source": [
      "Anna Schneider @windupanna\n",
      "Where's Waldo - Python with OpenCV\n",
      "import cv2\n",
      "\n",
      "gist.com/aschn/5861365"
     ]
    },
    {
     "cell_type": "code",
     "collapsed": false,
     "input": [
      "for i in xrange(0, 10):\n",
      "    break"
     ],
     "language": "python",
     "metadata": {},
     "outputs": [],
     "prompt_number": 8
    },
    {
     "cell_type": "raw",
     "metadata": {},
     "source": [
      "Ari Lacenski @tensory\n",
      "UnRestful APIs with Django\n",
      "\n",
      "use REST plz!\n",
      "Django TastyPie"
     ]
    },
    {
     "cell_type": "raw",
     "metadata": {},
     "source": [
      "Melanie Warrick @nyghtowl\n",
      "http://nyghtowl.io/\n",
      "\n",
      "What do do when you're hacked\n",
      "Reset more than your password, do account details"
     ]
    },
    {
     "cell_type": "raw",
     "metadata": {},
     "source": [
      "Moon Limb\n",
      "On Being an Entry-Level Developer\n",
      "\n",
      "Build a dashboard for internal use\n",
      "\n",
      "Do you enjoy programming?\n",
      "Willingness to adapt?\n",
      "Apply what you know to new problems?\n",
      "Be confident?\n",
      "\n",
      "Love programming!"
     ]
    },
    {
     "cell_type": "raw",
     "metadata": {},
     "source": [
      "Megan Marsh @SwampDragons\n",
      "Surprise Flowers: or hacking your husband\n",
      "\n",
      "I love her!"
     ]
    },
    {
     "cell_type": "raw",
     "metadata": {},
     "source": [
      "Nathan @nyergler\n",
      "EventBrite3\n",
      "\n",
      "python2.7 -> python3.3\n",
      "\n",
      "Why? improvements, speed, better libraries, etc\n",
      "\n",
      "STRINGS ARE UNICODE!!!!!\n",
      "\n",
      "How: Tests, Dependencies, Code, Data"
     ]
    }
   ],
   "metadata": {}
  }
 ]
}