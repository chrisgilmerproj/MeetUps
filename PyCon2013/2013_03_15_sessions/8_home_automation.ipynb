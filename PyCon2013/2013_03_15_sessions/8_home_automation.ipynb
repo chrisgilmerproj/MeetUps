{
 "metadata": {
  "name": "8_home_automation"
 },
 "nbformat": 3,
 "nbformat_minor": 0,
 "worksheets": [
  {
   "cells": [
    {
     "cell_type": "heading",
     "level": 2,
     "metadata": {},
     "source": [
      "Who\u2019s there? - Home Automation with Arduino/RaspberryPi"
     ]
    },
    {
     "cell_type": "raw",
     "metadata": {},
     "source": [
      "Rupa Dachere\n",
      "github.com/rdachere/whosthere\n",
      "rupa@codechiz.org"
     ]
    },
    {
     "cell_type": "raw",
     "metadata": {},
     "source": [
      "Problem:\n",
      "- Who was at the door\n",
      "- What time and day\n",
      "- Notified at arrival\n",
      "- Contractors, package delivery, neighbors\n",
      "\n",
      "Solution:\n",
      "- Contractor arrives\n",
      "- Approximation sensor (ultrasonic + arduino)\n",
      "- Send signal to raspberrypi\n",
      "- Webcam takes picture\n",
      "- Raspberry picture uploads picture to web and sends SMS\n",
      "\n",
      "Why?\n",
      "- Reasonably inexpensive (~$100)\n",
      "- Wanted to play with hardware\n",
      "- Get to speak at conference\n",
      "\n",
      "Arduino vs RaspberryPi\n",
      "- Arduino better for time sensitive\n",
      "\n",
      "Software:\n",
      "- Arduino sketch\n",
      "- RaspberryPi - recognizer.py, send_sms.py\n",
      "\n",
      "Arduino Uno R3 - $22\n",
      "Proximity Sensor - $16\n",
      "raspberrypi - $35\n",
      "webcam\n",
      "edimax wifi dongle $12\n",
      "usb hub\n",
      "breadboards"
     ]
    }
   ],
   "metadata": {}
  }
 ]
}