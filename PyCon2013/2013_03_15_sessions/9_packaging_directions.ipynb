{
 "metadata": {
  "name": "9_packaging_directions"
 },
 "nbformat": 3,
 "nbformat_minor": 0,
 "worksheets": [
  {
   "cells": [
    {
     "cell_type": "heading",
     "level": 2,
     "metadata": {},
     "source": [
      "Panel: Directions for Packaging"
     ]
    },
    {
     "cell_type": "raw",
     "metadata": {},
     "source": [
      "Nick Coghlan, Barry Warsaw, \u00c9ric Araujo"
     ]
    },
    {
     "cell_type": "raw",
     "metadata": {},
     "source": [
      "Directions in Packaging\n",
      "\n",
      "AKA \"./setup.py install must die\"\n",
      "\n",
      "use distribute!\n",
      "import setuptools in setup.py\n",
      "\n",
      "psf bitbucket python metapackaging\n",
      "\n"
     ]
    }
   ],
   "metadata": {}
  }
 ]
}