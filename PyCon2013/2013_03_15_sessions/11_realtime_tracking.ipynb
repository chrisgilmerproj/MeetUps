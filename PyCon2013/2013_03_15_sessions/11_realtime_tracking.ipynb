{
 "metadata": {
  "name": "11_realtime_tracking"
 },
 "nbformat": 3,
 "nbformat_minor": 0,
 "worksheets": [
  {
   "cells": [
    {
     "cell_type": "heading",
     "level": 2,
     "metadata": {},
     "source": [
      "Realtime Tracking and Mapping of Geographic Objects using Python"
     ]
    },
    {
     "cell_type": "raw",
     "metadata": {},
     "source": [
      "Ragi Burhum\n",
      "@rburhum\n",
      "ragi@amigocloud.com"
     ]
    },
    {
     "cell_type": "raw",
     "metadata": {},
     "source": [
      "Licensing Issues:\n",
      "- password-protected site can void terms\n",
      "- asset tracking or similar\n",
      "- map data provider's (Google, Navteq, tomtom/teleatlas, etc) Business Model\n",
      "\n",
      "What image?\n",
      "- Vector/Raster data\n",
      "- nodes and edges, polygons\n",
      "- may want metadata, speed, direction, shape\n",
      "\n",
      "What about just draw on top of basemap?\n",
      "\n",
      "Free!\n",
      "- OpenStreetMap (It's a wiki, liberal license)\n",
      "- NAIP (US Dept. Agriculture) (nice resolution)\n",
      "- SRTM (Elevation, 90m pixels)\n",
      "- Natural Earth Data (low noise basemap, population data, political boundaries)\n",
      "\n",
      "Map Renderers\n",
      "- Open Source: Mapnik, MapServer, GeoServer\n",
      "- Map data + style file\n",
      "\n",
      "Client Side Map JS Library\n",
      "- OpenLayers\n",
      "- Leaflet (small, fast)\n",
      "\n",
      "Normal Geo-Stack: (stateless)\n",
      "- web/mobile Client (OpenLayers)\n",
      "- Internet\n",
      "- Varnish (80) (caching and reverse proxy)\n",
      "- Nginx, Gunicorn (Django), TileStache, Memcached, Mapnik\n",
      "- Postgresql/Postgis (vector data), data storage (satellite data)\n",
      "\n",
      "Tile Cache:\n",
      "- gist.github.com/RBURHUM/4559323\n",
      "- Write a tile manager class-based view\n",
      "- http://tilestache.org/doc\n",
      "- Multi-cache layer: Memcache, then disk, then http request\n",
      "\n",
      "Need a STATEFUL connection\n",
      "\n",
      "Polling for real-time tracking == REALLY BAD\n",
      "\n",
      "Server-side events:\n",
      "- Push notifications\n",
      "- Use websockets!\n",
      "- socket.io\n",
      "\n",
      "Publisher/Subscriber Queue\n",
      "- RabbitMQ, Redis, etc\n",
      "- USE CELERY!\n",
      "- adds delay() method\n",
      "\n",
      "New GeoStack: (stateful, async)\n",
      "- Modify to use celery\n",
      "- node.js + socket.io, fall back to flash, fall back long-polling\n",
      "- This is where varnish comes in handy: reverse proxy\n",
      "\n"
     ]
    }
   ],
   "metadata": {}
  }
 ]
}