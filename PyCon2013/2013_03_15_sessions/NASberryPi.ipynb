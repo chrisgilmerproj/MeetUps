{
 "metadata": {
  "name": "NASberryPi"
 },
 "nbformat": 3,
 "nbformat_minor": 0,
 "worksheets": [
  {
   "cells": [
    {
     "cell_type": "raw",
     "metadata": {},
     "source": [
      "setup for media server: \n",
      "nasberrypi.com\n",
      "http://openelec.tv/\n",
      "\n",
      "samba samba-common-bin\n",
      "nfs-kernel-server nfs-common port map\n",
      "minidlna\n",
      "nginx\n",
      "transmission-daemon\n",
      "open-ssh-server autossh\n",
      "openvpn"
     ]
    }
   ],
   "metadata": {}
  }
 ]
}