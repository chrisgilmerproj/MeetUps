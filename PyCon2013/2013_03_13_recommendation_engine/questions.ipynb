{
 "metadata": {
  "name": "questions"
 },
 "nbformat": 3,
 "nbformat_minor": 0,
 "worksheets": [
  {
   "cells": [
    {
     "cell_type": "markdown",
     "metadata": {},
     "source": [
      "# Exercises for \"A Beginner's Introduction to Pydata: How to Build a Minimal Recommendation System\"\n",
      "## Systems check: imports and files"
     ]
    },
    {
     "cell_type": "code",
     "collapsed": false,
     "input": [
      "import numpy as np\n",
      "import pandas as pd\n",
      "import tables as tb\n",
      "!find ./data"
     ],
     "language": "python",
     "metadata": {},
     "outputs": [
      {
       "output_type": "stream",
       "stream": "stdout",
       "text": [
        "./data\r\n",
        "./data/ml-1m\r\n",
        "./data/ml-1m/movies.dat\r\n",
        "./data/ml-1m/ratings.dat\r\n",
        "./data/ml-1m/README\r\n",
        "./data/ml-1m/users.dat\r\n",
        "./data/ml-1m.zip\r\n",
        "./data/movielens_test.csv\r\n",
        "./data/movielens_train.csv\r\n"
       ]
      }
     ],
     "prompt_number": 1
    },
    {
     "cell_type": "markdown",
     "metadata": {},
     "source": [
      "## Systems check: how to load the users and movies portions of MovieLens"
     ]
    },
    {
     "cell_type": "code",
     "collapsed": false,
     "input": [
      "import pandas as pd\n",
      "\n",
      "unames = ['user_id', 'gender', 'age', 'occupation', 'zip']\n",
      "users = pd.read_table('data/ml-1m/users.dat',\n",
      "                      sep='::', header=None, names=unames)\n",
      "print users\n",
      "print\n",
      "\n",
      "mnames = ['movie_id', 'title', 'genres']\n",
      "movies = pd.read_table('data/ml-1m/movies.dat',\n",
      "                       sep='::', header=None, names=mnames)\n",
      "print movies"
     ],
     "language": "python",
     "metadata": {},
     "outputs": [
      {
       "output_type": "stream",
       "stream": "stdout",
       "text": [
        "<class 'pandas.core.frame.DataFrame'>\n",
        "Int64Index: 6040 entries, 0 to 6039\n",
        "Data columns:\n",
        "user_id       6040  non-null values\n",
        "gender        6040  non-null values\n",
        "age           6040  non-null values\n",
        "occupation    6040  non-null values\n",
        "zip           6040  non-null values\n",
        "dtypes: int64(3), object(2)\n",
        "\n",
        "<class 'pandas.core.frame.DataFrame'>\n",
        "Int64Index: 3883 entries, 0 to 3882\n",
        "Data columns:\n",
        "movie_id    3883  non-null values\n",
        "title       3883  non-null values\n",
        "genres      3883  non-null values\n",
        "dtypes: int64(1), object(2)\n"
       ]
      }
     ],
     "prompt_number": 4
    },
    {
     "cell_type": "markdown",
     "metadata": {},
     "source": [
      "## Systems check: how to load the training and testing subsets"
     ]
    },
    {
     "cell_type": "code",
     "collapsed": false,
     "input": [
      "# subset version (hosted notebook)\n",
      "movielens_train = pd.read_csv('data/movielens_train.csv', index_col=0)\n",
      "movielens_test = pd.read_csv('data/movielens_test.csv', index_col=0)\n",
      "print movielens_train\n",
      "print\n",
      "print movielens_test"
     ],
     "language": "python",
     "metadata": {},
     "outputs": [
      {
       "output_type": "stream",
       "stream": "stdout",
       "text": [
        "<class 'pandas.core.frame.DataFrame'>\n",
        "Int64Index: 5838 entries, 593263 to 466639\n",
        "Data columns:\n",
        "user_id        5838  non-null values\n",
        "movie_id       5838  non-null values\n",
        "rating         5838  non-null values\n",
        "timestamp      5838  non-null values\n",
        "gender         5838  non-null values\n",
        "age            5838  non-null values\n",
        "occupation     5838  non-null values\n",
        "zip            5838  non-null values\n",
        "title          5838  non-null values\n",
        "genres         5838  non-null values\n",
        "for_testing    5838  non-null values\n",
        "dtypes: bool(1), int64(6), object(4)\n",
        "\n",
        "<class 'pandas.core.frame.DataFrame'>\n",
        "Int64Index: 2668 entries, 693323 to 713194\n",
        "Data columns:\n",
        "user_id        2668  non-null values\n",
        "movie_id       2668  non-null values\n",
        "rating         2668  non-null values\n",
        "timestamp      2668  non-null values\n",
        "gender         2668  non-null values\n",
        "age            2668  non-null values\n",
        "occupation     2668  non-null values\n",
        "zip            2668  non-null values\n",
        "title          2668  non-null values\n",
        "genres         2668  non-null values\n",
        "for_testing    2668  non-null values\n",
        "dtypes: bool(1), int64(6), object(4)\n"
       ]
      }
     ],
     "prompt_number": 59
    },
    {
     "cell_type": "markdown",
     "metadata": {},
     "source": [
      "# Numpy Questions: Indexing\n",
      "## 1. Access an individual element in a NumPy array"
     ]
    },
    {
     "cell_type": "code",
     "collapsed": false,
     "input": [
      "# given the following ndarray, access the its third element\n",
      "arr = np.arange(10)\n",
      "print arr\n",
      "print arr[2]"
     ],
     "language": "python",
     "metadata": {},
     "outputs": [
      {
       "output_type": "stream",
       "stream": "stdout",
       "text": [
        "[0 1 2 3 4 5 6 7 8 9]\n",
        "2\n"
       ]
      }
     ],
     "prompt_number": 10
    },
    {
     "cell_type": "markdown",
     "metadata": {},
     "source": [
      "## 2. Access the last column of a 2d array"
     ]
    },
    {
     "cell_type": "code",
     "collapsed": false,
     "input": [
      "# given the following ndarray, access its last column\n",
      "arr = np.array([[5,4,2,5],[4,5,1,12],[0,1,5,4]])\n",
      "print arr\n",
      "print arr[2]"
     ],
     "language": "python",
     "metadata": {},
     "outputs": [
      {
       "output_type": "stream",
       "stream": "stdout",
       "text": [
        "[[ 5  4  2  5]\n",
        " [ 4  5  1 12]\n",
        " [ 0  1  5  4]]\n",
        "[0 1 5 4]\n"
       ]
      }
     ],
     "prompt_number": 12
    },
    {
     "cell_type": "markdown",
     "metadata": {},
     "source": [
      "## 3. Select all elements from a 2d array that are larger than zero"
     ]
    },
    {
     "cell_type": "code",
     "collapsed": false,
     "input": [
      "# given the following ndarray, obtain all elements that are larger than zero\n",
      "arr = np.array([[-0.28179535,  1.80896278, -1.08991099, -1.20264003,  0.61651465],\n",
      "                [ 0.49983669,  0.28402664, -0.12685554,  0.81266623,  0.96586634]])\n",
      "print arr\n",
      "print arr[arr > 0]"
     ],
     "language": "python",
     "metadata": {},
     "outputs": [
      {
       "output_type": "stream",
       "stream": "stdout",
       "text": [
        "[[-0.28179535  1.80896278 -1.08991099 -1.20264003  0.61651465]\n",
        " [ 0.49983669  0.28402664 -0.12685554  0.81266623  0.96586634]]\n",
        "[ 1.80896278  0.61651465  0.49983669  0.28402664  0.81266623  0.96586634]\n"
       ]
      }
     ],
     "prompt_number": 20
    },
    {
     "cell_type": "markdown",
     "metadata": {},
     "source": [
      "## 4. Set all negative values of an array to 1"
     ]
    },
    {
     "cell_type": "code",
     "collapsed": false,
     "input": [
      "# given the following ndarray, set the last two elements to 10\n",
      "arr = np.array([1,2,-10,5,-6])\n",
      "print arr\n",
      "arr[-2:] = 10\n",
      "print arr"
     ],
     "language": "python",
     "metadata": {},
     "outputs": [
      {
       "output_type": "stream",
       "stream": "stdout",
       "text": [
        "[  1   2 -10   5  -6]\n",
        "[  1   2 -10  10  10]\n"
       ]
      }
     ],
     "prompt_number": 18
    },
    {
     "cell_type": "markdown",
     "metadata": {},
     "source": [
      "# Numpy Questions: Operations"
     ]
    },
    {
     "cell_type": "markdown",
     "metadata": {},
     "source": [
      "## 1. Compute the sum of a 1D array"
     ]
    },
    {
     "cell_type": "code",
     "collapsed": false,
     "input": [
      "# given the following ndarray, compute its sum\n",
      "arr = np.arange(10)\n",
      "print arr\n",
      "print sum(arr)\n",
      "print arr.sum()"
     ],
     "language": "python",
     "metadata": {},
     "outputs": [
      {
       "output_type": "stream",
       "stream": "stdout",
       "text": [
        "[0 1 2 3 4 5 6 7 8 9]\n",
        "45\n",
        "45\n"
       ]
      }
     ],
     "prompt_number": 23
    },
    {
     "cell_type": "markdown",
     "metadata": {},
     "source": [
      "## 2. Compute the mean of a 1D array"
     ]
    },
    {
     "cell_type": "code",
     "collapsed": false,
     "input": [
      "# given the following ndarray, compute its mean\n",
      "arr = np.array([50,-79,80,35])\n",
      "print arr\n",
      "print arr.mean()"
     ],
     "language": "python",
     "metadata": {},
     "outputs": [
      {
       "output_type": "stream",
       "stream": "stdout",
       "text": [
        "[ 50 -79  80  35]\n",
        "21.5\n"
       ]
      }
     ],
     "prompt_number": 22
    },
    {
     "cell_type": "markdown",
     "metadata": {},
     "source": [
      "## 3. How do you detect the presence of NANs in an array?"
     ]
    },
    {
     "cell_type": "code",
     "collapsed": false,
     "input": [
      "# given the following ndarray, detect all elements that are nans\n",
      "arr = np.array([np.nan] * 10)\n",
      "arr[2:4] = 5\n",
      "print arr\n",
      "print np.isnan(arr)\n",
      "print arr[np.isnan(arr)]"
     ],
     "language": "python",
     "metadata": {},
     "outputs": [
      {
       "output_type": "stream",
       "stream": "stdout",
       "text": [
        "[ nan  nan   5.   5.  nan  nan  nan  nan  nan  nan]\n",
        "[ True  True False False  True  True  True  True  True  True]\n",
        "[ nan  nan  nan  nan  nan  nan  nan  nan]\n"
       ]
      }
     ],
     "prompt_number": 31
    },
    {
     "cell_type": "markdown",
     "metadata": {},
     "source": [
      "# Pandas questions: Series and DataFrames\n",
      "## 1. Adding a column in a DataFrame"
     ]
    },
    {
     "cell_type": "code",
     "collapsed": false,
     "input": [
      "# given the following DataFrame, add a new column to it\n",
      "df = pd.DataFrame({'col1': [1,2,3,4], 'col2': [1,2,3,4]})\n",
      "df"
     ],
     "language": "python",
     "metadata": {},
     "outputs": [
      {
       "html": [
        "<div style=\"max-height:1000px;max-width:1500px;overflow:auto;\">\n",
        "<table border=\"1\" class=\"dataframe\">\n",
        "  <thead>\n",
        "    <tr style=\"text-align: right;\">\n",
        "      <th></th>\n",
        "      <th>col1</th>\n",
        "      <th>col2</th>\n",
        "    </tr>\n",
        "  </thead>\n",
        "  <tbody>\n",
        "    <tr>\n",
        "      <th>0</th>\n",
        "      <td> 1</td>\n",
        "      <td> 1</td>\n",
        "    </tr>\n",
        "    <tr>\n",
        "      <th>1</th>\n",
        "      <td> 2</td>\n",
        "      <td> 2</td>\n",
        "    </tr>\n",
        "    <tr>\n",
        "      <th>2</th>\n",
        "      <td> 3</td>\n",
        "      <td> 3</td>\n",
        "    </tr>\n",
        "    <tr>\n",
        "      <th>3</th>\n",
        "      <td> 4</td>\n",
        "      <td> 4</td>\n",
        "    </tr>\n",
        "  </tbody>\n",
        "</table>\n",
        "</div>"
       ],
       "output_type": "pyout",
       "prompt_number": 32,
       "text": [
        "   col1  col2\n",
        "0     1     1\n",
        "1     2     2\n",
        "2     3     3\n",
        "3     4     4"
       ]
      }
     ],
     "prompt_number": 32
    },
    {
     "cell_type": "markdown",
     "metadata": {},
     "source": [
      "## 2. Deleting a row in a DataFrame"
     ]
    },
    {
     "cell_type": "code",
     "collapsed": false,
     "input": [
      "# given the following DataFrame, delete row 'd' from it\n",
      "df = pd.DataFrame({'col1': [1,2,3,4]}, index = ['a','b','c','d'])\n",
      "print df\n",
      "print df.drop('d', axis=0)"
     ],
     "language": "python",
     "metadata": {},
     "outputs": [
      {
       "output_type": "stream",
       "stream": "stdout",
       "text": [
        "   col1\n",
        "a     1\n",
        "b     2\n",
        "c     3\n",
        "d     4\n",
        "   col1\n",
        "a     1\n",
        "b     2\n",
        "c     3\n"
       ]
      }
     ],
     "prompt_number": 36
    },
    {
     "cell_type": "markdown",
     "metadata": {},
     "source": [
      "## 3. Creating a DataFrame from a few Series"
     ]
    },
    {
     "cell_type": "code",
     "collapsed": false,
     "input": [
      "# given the following three Series, create a DataFrame such that it holds them in its columns\n",
      "ser_1 = pd.Series(np.random.randn(6))\n",
      "ser_2 = pd.Series(np.random.randn(6))\n",
      "ser_3 = pd.Series(np.random.randn(6))\n",
      "\n",
      "df = pd.DataFrame({'r_1': ser_1, 'r_2': ser_2, 'r_3': ser_3})\n",
      "print df"
     ],
     "language": "python",
     "metadata": {},
     "outputs": [
      {
       "output_type": "stream",
       "stream": "stdout",
       "text": [
        "        r_1       r_2       r_3\n",
        "0 -0.714035 -1.557976 -1.495601\n",
        "1  1.051053 -1.173062 -0.520717\n",
        "2  0.621257  1.000231  0.274717\n",
        "3 -0.555712 -0.514025  1.687803\n",
        "4  1.899891 -3.865166 -0.413743\n",
        "5 -0.826162 -0.371045 -0.352827\n"
       ]
      }
     ],
     "prompt_number": 39
    },
    {
     "cell_type": "markdown",
     "metadata": {},
     "source": [
      "# Pandas questions: indexing"
     ]
    },
    {
     "cell_type": "markdown",
     "metadata": {},
     "source": [
      "## 1. Indexing into a specific column"
     ]
    },
    {
     "cell_type": "code",
     "collapsed": false,
     "input": [
      "# given the DataFrame 'movielens' that we loaded in the previous step, try to index\n",
      "# into the 'zip' column\n",
      "movielens_train['zip']"
     ],
     "language": "python",
     "metadata": {},
     "outputs": [
      {
       "output_type": "pyout",
       "prompt_number": 40,
       "text": [
        "593263         32812\n",
        "235597         60513\n",
        "219003         74401\n",
        "685090         53704\n",
        "312377         87505\n",
        "916102    93420-2852\n",
        "757805         94107\n",
        "216517         52402\n",
        "28065          43201\n",
        "284940         02134\n",
        "677643         63125\n",
        "241780         37931\n",
        "487663         95125\n",
        "647317         12206\n",
        "8747           92503\n",
        "...\n",
        "888129    27514\n",
        "950896    87502\n",
        "668851    53188\n",
        "739828    48135\n",
        "393014    98499\n",
        "500935    22207\n",
        "397583    23112\n",
        "424247    55418\n",
        "942640    12345\n",
        "249648    76006\n",
        "418478    94109\n",
        "730445    02127\n",
        "502516    56082\n",
        "888991    07054\n",
        "466639    20132\n",
        "Name: zip, Length: 5838"
       ]
      }
     ],
     "prompt_number": 40
    },
    {
     "cell_type": "markdown",
     "metadata": {},
     "source": [
      "## 2. Label-based indexing"
     ]
    },
    {
     "cell_type": "code",
     "collapsed": false,
     "input": [
      "# using the same 'movielens' DataFrame, index into the row whose index is 593263\n",
      "index = movielens_train.index[0]\n",
      "print movielens_train.ix[index]"
     ],
     "language": "python",
     "metadata": {},
     "outputs": [
      {
       "output_type": "stream",
       "stream": "stdout",
       "text": [
        "user_id                            3562\n",
        "movie_id                           3798\n",
        "rating                                4\n",
        "timestamp                     967332344\n",
        "gender                                F\n",
        "age                                  25\n",
        "occupation                            6\n",
        "zip                               32812\n",
        "title          What Lies Beneath (2000)\n",
        "genres                         Thriller\n",
        "for_testing                       False\n",
        "Name: 593263\n"
       ]
      }
     ],
     "prompt_number": 47
    },
    {
     "cell_type": "markdown",
     "metadata": {},
     "source": [
      "# Reco systems questions: estimation functions\n",
      "## 1. Simple content filtering using mean ratings"
     ]
    },
    {
     "cell_type": "code",
     "collapsed": false,
     "input": [
      "# write an 'estimate' function that computes the mean rating of a particular user\n",
      "def estimate(user_id, movie_id):\n",
      "    # first, index into all ratings by this user\n",
      "    # second, compute the mean of those ratings\n",
      "    # return\n",
      "    ratings_by_user = movielens_train.ix[movielens_train.user_id == user_id]\n",
      "    if ratings_by_user.empty: return 3.0\n",
      "    return ratings_by_user['rating'].mean()\n",
      "\n",
      "\n",
      "# try it out for a user_id, movie_id pair\n",
      "estimate(4653, 2648)"
     ],
     "language": "python",
     "metadata": {},
     "outputs": [
      {
       "output_type": "pyout",
       "prompt_number": 71,
       "text": [
        "3.6666666666666665"
       ]
      }
     ],
     "prompt_number": 71
    },
    {
     "cell_type": "markdown",
     "metadata": {},
     "source": [
      "## 2. Simple collaborative filtering using mean ratings"
     ]
    },
    {
     "cell_type": "code",
     "collapsed": false,
     "input": [
      "# write an 'estimate' function that computes the mean rating of a particular user\n",
      "def estimate(user_id, movie_id):\n",
      "    # first, index into all ratings of this movie\n",
      "    # second, compute the mean of those ratings\n",
      "    # return\n",
      "    ratings_by_others = movielens_train[movielens_train.movie_id == movie_id]\n",
      "    if ratings_by_others.empty: return 3.0\n",
      "    return ratings_by_others['rating'].mean()\n",
      "\n",
      "    \n",
      "# try it out for a user_id, movie_id pair\n",
      "estimate(4653, 2648)"
     ],
     "language": "python",
     "metadata": {},
     "outputs": [
      {
       "output_type": "pyout",
       "prompt_number": 67,
       "text": [
        "4.0"
       ]
      }
     ],
     "prompt_number": 67
    },
    {
     "cell_type": "markdown",
     "metadata": {},
     "source": [
      "# Mini-Challenge\n",
      "\n",
      "These are the two functions that you will need to test your `estimate` method."
     ]
    },
    {
     "cell_type": "code",
     "collapsed": false,
     "input": [
      "def compute_rmse(y_pred, y_true):\n",
      "    \"\"\" Compute Root Mean Squared Error. \"\"\"\n",
      "    return np.sqrt(np.mean(np.power(y_pred - y_true, 2)))"
     ],
     "language": "python",
     "metadata": {},
     "outputs": [],
     "prompt_number": 55
    },
    {
     "cell_type": "code",
     "collapsed": false,
     "input": [
      "def evaluate(estimate_f):\n",
      "    \"\"\" RMSE-based predictive performance evaluation with pandas. \"\"\"\n",
      "    ids_to_estimate = zip(movielens_test.user_id, movielens_test.movie_id)\n",
      "    estimated = np.array([estimate_f(u,i) for (u,i) in ids_to_estimate])\n",
      "    real = movielens_test.rating.values\n",
      "    return compute_rmse(estimated, real)"
     ],
     "language": "python",
     "metadata": {},
     "outputs": [],
     "prompt_number": 76
    },
    {
     "cell_type": "code",
     "collapsed": false,
     "input": [
      "# write your estimate function here\n",
      "def my_estimate_func(user_id, movie_id):\n",
      "    return estimate(user_id, movie_id)"
     ],
     "language": "python",
     "metadata": {},
     "outputs": [],
     "prompt_number": 57
    },
    {
     "cell_type": "markdown",
     "metadata": {},
     "source": [
      "With those, you can test for performance with the following line, which assumes that your function is called `my_estimate_func`:"
     ]
    },
    {
     "cell_type": "code",
     "collapsed": false,
     "input": [
      "print 'RMSE for my estimate function: %s' % evaluate(my_estimate_func)"
     ],
     "language": "python",
     "metadata": {},
     "outputs": [
      {
       "output_type": "stream",
       "stream": "stdout",
       "text": [
        "RMSE for my estimate function: 1.1234279896\n"
       ]
      }
     ],
     "prompt_number": 58
    },
    {
     "cell_type": "code",
     "collapsed": false,
     "input": [
      "# My reco engine work\n",
      "def pearson(s1, s2):\n",
      "    \"\"\"Take two pd.Series objects and return a pearson correlation.\"\"\"\n",
      "    s1_c = s1 - s1.mean()\n",
      "    s2_c = s2 - s2.mean()\n",
      "    return np.sum(s1_c * s2_c) / np.sqrt(np.sum(s1_c ** 2) * np.sum(s2_c ** 2))\n",
      "\n",
      "class Reco(object):\n",
      "    def learn(self):\n",
      "        self.all_user_profiles = movielens_train.pivot_table('rating', rows='movie_id', cols='user_id')\n",
      "    \n",
      "    def estimate(self, user_id, movie_id):\n",
      "        ratings_by_others = movielens_train[movielens_train.movie_id == movie_id]\n",
      "        if ratings_by_others.empty:\n",
      "            return movielens_train.mean()\n",
      "        \n",
      "        ratings_by_others.set_index('user_id', inplace=True)\n",
      "        their_ids = ratings_by_others.index\n",
      "        their_ratings = ratings_by_others.rating\n",
      "        their_profiles = self.all_user_profiles[their_ids]\n",
      "        user_profile = self.all_user_profiles[user_id]\n",
      "        \n",
      "        sims = their_profiles.apply(lambda profile: pearson(profile, user_profile), axis=0)\n",
      "        \n",
      "        ratings_sims = pd.DataFrame({'sim': sims, 'rating': their_ratings})\n",
      "        ratings_sims = ratings_sims[ ratings_sims.sim > 0]\n",
      "        \n",
      "        if ratings_sims.empty:\n",
      "            return their_ratings.mean()\n",
      "        else:\n",
      "            return np.average(ratings_sims.rating, weights=ratings_sims.sim)\n",
      "        \n",
      "reco = Reco()\n",
      "reco.learn()\n",
      "#print reco.estimate(4653, 2648)\n",
      "print 'RMSE for reco: %s' % evaluate(reco.estimate)"
     ],
     "language": "python",
     "metadata": {},
     "outputs": [
      {
       "ename": "ValueError",
       "evalue": "setting an array element with a sequence.",
       "output_type": "pyerr",
       "traceback": [
        "\u001b[0;31m---------------------------------------------------------------------------\u001b[0m\n\u001b[0;31mValueError\u001b[0m                                Traceback (most recent call last)",
        "\u001b[0;32m<ipython-input-114-64858a487726>\u001b[0m in \u001b[0;36m<module>\u001b[0;34m()\u001b[0m\n\u001b[1;32m     34\u001b[0m \u001b[0mreco\u001b[0m\u001b[0;34m.\u001b[0m\u001b[0mlearn\u001b[0m\u001b[0;34m(\u001b[0m\u001b[0;34m)\u001b[0m\u001b[0;34m\u001b[0m\u001b[0m\n\u001b[1;32m     35\u001b[0m \u001b[0;31m#print reco.estimate(4653, 2648)\u001b[0m\u001b[0;34m\u001b[0m\u001b[0;34m\u001b[0m\u001b[0m\n\u001b[0;32m---> 36\u001b[0;31m \u001b[0;32mprint\u001b[0m \u001b[0;34m'RMSE for reco: %s'\u001b[0m \u001b[0;34m%\u001b[0m \u001b[0mevaluate\u001b[0m\u001b[0;34m(\u001b[0m\u001b[0mreco\u001b[0m\u001b[0;34m.\u001b[0m\u001b[0mestimate\u001b[0m\u001b[0;34m)\u001b[0m\u001b[0;34m\u001b[0m\u001b[0m\n\u001b[0m",
        "\u001b[0;32m<ipython-input-76-aa831680dbd3>\u001b[0m in \u001b[0;36mevaluate\u001b[0;34m(estimate_f)\u001b[0m\n\u001b[1;32m      2\u001b[0m     \u001b[0;34m\"\"\" RMSE-based predictive performance evaluation with pandas. \"\"\"\u001b[0m\u001b[0;34m\u001b[0m\u001b[0m\n\u001b[1;32m      3\u001b[0m     \u001b[0mids_to_estimate\u001b[0m \u001b[0;34m=\u001b[0m \u001b[0mzip\u001b[0m\u001b[0;34m(\u001b[0m\u001b[0mmovielens_test\u001b[0m\u001b[0;34m.\u001b[0m\u001b[0muser_id\u001b[0m\u001b[0;34m,\u001b[0m \u001b[0mmovielens_test\u001b[0m\u001b[0;34m.\u001b[0m\u001b[0mmovie_id\u001b[0m\u001b[0;34m)\u001b[0m\u001b[0;34m\u001b[0m\u001b[0m\n\u001b[0;32m----> 4\u001b[0;31m     \u001b[0mestimated\u001b[0m \u001b[0;34m=\u001b[0m \u001b[0mnp\u001b[0m\u001b[0;34m.\u001b[0m\u001b[0marray\u001b[0m\u001b[0;34m(\u001b[0m\u001b[0;34m[\u001b[0m\u001b[0mestimate_f\u001b[0m\u001b[0;34m(\u001b[0m\u001b[0mu\u001b[0m\u001b[0;34m,\u001b[0m\u001b[0mi\u001b[0m\u001b[0;34m)\u001b[0m \u001b[0;32mfor\u001b[0m \u001b[0;34m(\u001b[0m\u001b[0mu\u001b[0m\u001b[0;34m,\u001b[0m\u001b[0mi\u001b[0m\u001b[0;34m)\u001b[0m \u001b[0;32min\u001b[0m \u001b[0mids_to_estimate\u001b[0m\u001b[0;34m]\u001b[0m\u001b[0;34m)\u001b[0m\u001b[0;34m\u001b[0m\u001b[0m\n\u001b[0m\u001b[1;32m      5\u001b[0m     \u001b[0mreal\u001b[0m \u001b[0;34m=\u001b[0m \u001b[0mmovielens_test\u001b[0m\u001b[0;34m.\u001b[0m\u001b[0mrating\u001b[0m\u001b[0;34m.\u001b[0m\u001b[0mvalues\u001b[0m\u001b[0;34m\u001b[0m\u001b[0m\n\u001b[1;32m      6\u001b[0m     \u001b[0;32mreturn\u001b[0m \u001b[0mcompute_rmse\u001b[0m\u001b[0;34m(\u001b[0m\u001b[0mestimated\u001b[0m\u001b[0;34m,\u001b[0m \u001b[0mreal\u001b[0m\u001b[0;34m)\u001b[0m\u001b[0;34m\u001b[0m\u001b[0m\n",
        "\u001b[0;31mValueError\u001b[0m: setting an array element with a sequence."
       ]
      }
     ],
     "prompt_number": 114
    },
    {
     "cell_type": "markdown",
     "metadata": {},
     "source": [
      "Once you are happy with your score, you can submit your RMSE by running this function (in the hosted notebook only):"
     ]
    },
    {
     "cell_type": "code",
     "collapsed": false,
     "input": [
      "from update_score import update_score\n",
      "update_score(evaluate(my_estimate_func))"
     ],
     "language": "python",
     "metadata": {},
     "outputs": [
      {
       "ename": "ImportError",
       "evalue": "No module named update_score",
       "output_type": "pyerr",
       "traceback": [
        "\u001b[0;31m---------------------------------------------------------------------------\u001b[0m\n\u001b[0;31mImportError\u001b[0m                               Traceback (most recent call last)",
        "\u001b[0;32m<ipython-input-62-50225f348713>\u001b[0m in \u001b[0;36m<module>\u001b[0;34m()\u001b[0m\n\u001b[0;32m----> 1\u001b[0;31m \u001b[0;32mfrom\u001b[0m \u001b[0mupdate_score\u001b[0m \u001b[0;32mimport\u001b[0m \u001b[0mupdate_score\u001b[0m\u001b[0;34m\u001b[0m\u001b[0m\n\u001b[0m\u001b[1;32m      2\u001b[0m \u001b[0mupdate_score\u001b[0m\u001b[0;34m(\u001b[0m\u001b[0mevaluate\u001b[0m\u001b[0;34m(\u001b[0m\u001b[0mmy_estimate_func\u001b[0m\u001b[0;34m)\u001b[0m\u001b[0;34m)\u001b[0m\u001b[0;34m\u001b[0m\u001b[0m\n",
        "\u001b[0;31mImportError\u001b[0m: No module named update_score"
       ]
      }
     ],
     "prompt_number": 62
    },
    {
     "cell_type": "markdown",
     "metadata": {},
     "source": [
      "# [BONUS] Pytables questions: file and node creation\n",
      "## 1. Create a PyTables file in your working environment"
     ]
    },
    {
     "cell_type": "code",
     "collapsed": false,
     "input": [
      "# write your answer in this code block"
     ],
     "language": "python",
     "metadata": {},
     "outputs": []
    },
    {
     "cell_type": "markdown",
     "metadata": {},
     "source": [
      "## 2. Within the file you created, create a new group"
     ]
    },
    {
     "cell_type": "code",
     "collapsed": false,
     "input": [
      "# write your answer in this code block"
     ],
     "language": "python",
     "metadata": {},
     "outputs": []
    },
    {
     "cell_type": "markdown",
     "metadata": {},
     "source": [
      "## 3. Within the group you created, create a new array of integers and save it"
     ]
    },
    {
     "cell_type": "code",
     "collapsed": false,
     "input": [
      "# write your answer in this code block"
     ],
     "language": "python",
     "metadata": {},
     "outputs": []
    },
    {
     "cell_type": "markdown",
     "metadata": {},
     "source": [
      "## 4. For the group created, set a datetime attribute, with the value of \u2018utcnow\u2019"
     ]
    },
    {
     "cell_type": "code",
     "collapsed": false,
     "input": [
      "# write your answer in this code block"
     ],
     "language": "python",
     "metadata": {},
     "outputs": []
    }
   ],
   "metadata": {}
  }
 ]
}