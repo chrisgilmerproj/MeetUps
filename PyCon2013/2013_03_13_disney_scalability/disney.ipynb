{
 "metadata": {
  "name": "disney"
 },
 "nbformat": 3,
 "nbformat_minor": 0,
 "worksheets": [
  {
   "cells": [
    {
     "cell_type": "heading",
     "level": 3,
     "metadata": {},
     "source": [
      "Scalability"
     ]
    },
    {
     "cell_type": "markdown",
     "metadata": {},
     "source": [
      "http://davidschachter.com\n",
      "davidschachter@gmail.com\n",
      "\n"
     ]
    }
   ],
   "metadata": {}
  }
 ]
}