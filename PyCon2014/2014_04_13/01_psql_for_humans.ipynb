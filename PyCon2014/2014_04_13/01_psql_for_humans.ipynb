{
 "metadata": {
  "name": "",
  "signature": "sha256:7d7407a7c3e264d2ae7ec7f2ecacc854d05e2ef95c8e7d14fc5dfe731d08dd91"
 },
 "nbformat": 3,
 "nbformat_minor": 0,
 "worksheets": [
  {
   "cells": [
    {
     "cell_type": "markdown",
     "metadata": {},
     "source": [
      "## Postgres Performance for Humans\n",
      "\n",
      "Craig Kerstiens\n",
      "\n",
      "https://us.pycon.org/2014/schedule/presentation/141/"
     ]
    },
    {
     "cell_type": "markdown",
     "metadata": {},
     "source": [
      "- http://www.postgresweekly.com\n",
      "- http://www.craigkerstiens.com\n",
      "- http://www.postgresquide.com\n",
      "- http://www.postgresapp.com (instead of homebrew)\n",
      "- http://www.heroku.com/postgres\n",
      "\n",
      "Find: 'postgresql when its not your dayjob'\n",
      "\n",
      "http://www.craigkerstiens.com/2012/10/01/understanding-postgres-performance/\n",
      "\n",
      "1. Look at cache rules, >= 99% caching hit ratio\n",
      "2. Index Hit Rate. >= 95% or higher\n",
      "\n",
      "Write a `~/.psqlrc` file to alias psql queries (like cache hit rate)\n",
      "\n",
      "- page responses < 100ms\n",
      "- common queries < 10ms\n",
      "- rare queries < 100ms\n",
      "\n",
      "Use `EXPLAIN ANALYZE` to see how long things take\n",
      "\n",
      "ADD ALL THE INDEXES\n",
      "\n",
      "- BTree (most things)\n",
      "- GIN (JSON)\n",
      "- GIST (GEO)\n",
      "- KNN (similarity)\n",
      "- SP-GIST (phone numbers)\n",
      "- VODKA (space GIN, working name)\n",
      "\n",
      "Create index CONCURRENTLY\n",
      "\n",
      "Use hstore for key/value, index with GIN/GIST\n",
      "\n",
      "9.2/9.3 JSON available, not optimized, use functional indexes\n",
      "\n",
      "9.4 jsonb, binary json, coming soon\n",
      "\n",
      "Connection pooling is a must\n",
      "- pgbouncer (encouraged)\n",
      "- pgpool\n",
      "\n",
      "Caching\n",
      "\n",
      "Replication\n",
      "- wal-e (from heroku, python)\n",
      "- barman\n",
      "\n",
      "Logical Backup:\n",
      "- pg_dump, human readable and portable\n",
      "- Good for portability\n",
      "- load on DB\n",
      "- good across architectures\n",
      "\n",
      "Physical Backup:\n",
      "- bytes on disk, base backup\n",
      "- limited load on system\n",
      "- more initial setup\n",
      "- good for scaling\n",
      "\n",
      "look up: OLAP vs OLTP (webapps)"
     ]
    },
    {
     "cell_type": "code",
     "collapsed": false,
     "input": [],
     "language": "python",
     "metadata": {},
     "outputs": []
    }
   ],
   "metadata": {}
  }
 ]
}