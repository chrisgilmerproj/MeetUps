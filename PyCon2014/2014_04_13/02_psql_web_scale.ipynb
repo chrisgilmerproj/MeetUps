{
 "metadata": {
  "name": "",
  "signature": "sha256:810140c9ebd4b167454d75d4c80aa7d8fa654607577258c86c53ad0289afdd29"
 },
 "nbformat": 3,
 "nbformat_minor": 0,
 "worksheets": [
  {
   "cells": [
    {
     "cell_type": "markdown",
     "metadata": {},
     "source": [
      "## PostgreSQL is Web Scale\n",
      "\n",
      "### Really :)\n",
      "\n",
      "Hannu Krosing hannu@2ndQuadrant.com\n",
      "\n",
      "https://us.pycon.org/2014/schedule/presentation/222/"
     ]
    },
    {
     "cell_type": "markdown",
     "metadata": {},
     "source": [
      "You should try to get 1-to-1 functions in psql to methods in python so as not to expose tables to any clients\n",
      "\n",
      "functional interface to DB & remote function calls with PL/Python"
     ]
    }
   ],
   "metadata": {}
  }
 ]
}