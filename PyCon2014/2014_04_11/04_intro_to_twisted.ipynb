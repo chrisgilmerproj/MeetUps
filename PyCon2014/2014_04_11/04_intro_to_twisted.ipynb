{
 "metadata": {
  "name": "",
  "signature": "sha256:ce871ea20a530739944877a79012831d6ccc3b510f33646e0634636d9c6aae5a"
 },
 "nbformat": 3,
 "nbformat_minor": 0,
 "worksheets": [
  {
   "cells": [
    {
     "cell_type": "markdown",
     "metadata": {},
     "source": [
      "## An Introduction to Twisted\n",
      "\n",
      "Stacey Sern\n",
      "\n",
      "shira@twistedmatrix.com\n",
      "@staceysern"
     ]
    },
    {
     "cell_type": "markdown",
     "metadata": {},
     "source": [
      "http://github.com/staceysern/bittorrent\n",
      "\n",
      "Reactor\n",
      " - Reacts to events\n",
      " - Network or Timer events\n",
      " \n",
      "Interface\n",
      "\n",
      "Server & Client\n",
      "- run()\n",
      "- stop()\n",
      "- callLater()\n",
      "\n",
      "Server\n",
      "- listenTCP() UDP() SSL()\n",
      "\n",
      "Client\n",
      "- connect TCP() SSL()\n"
     ]
    },
    {
     "cell_type": "markdown",
     "metadata": {},
     "source": []
    }
   ],
   "metadata": {}
  }
 ]
}