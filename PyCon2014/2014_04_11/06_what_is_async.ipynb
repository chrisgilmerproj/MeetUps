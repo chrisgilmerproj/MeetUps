{
 "metadata": {
  "name": "",
  "signature": "sha256:8f3baff51e4a50baa86f235c7a92c8d1cdbe30ddce3d4650038e100e092db87e"
 },
 "nbformat": 3,
 "nbformat_minor": 0,
 "worksheets": [
  {
   "cells": [
    {
     "cell_type": "markdown",
     "metadata": {},
     "source": [
      "## What is Async, How Does It Work, & When Should I Use It\n",
      "\n",
      "A. Jesse Jiryu Davis\n",
      "\n",
      "@jessejiryudavis at MongoDB\n",
      "\n",
      "https://us.pycon.org/2014/schedule/presentation/284/"
     ]
    },
    {
     "cell_type": "markdown",
     "metadata": {},
     "source": [
      "Examples:\n",
      "- Subs (CPU Bound Web App, not async)\n",
      "- Pizza (Memory Bound Web App, need state, async)\n",
      "- Omakase (Sushi) (Websocket App, async)"
     ]
    },
    {
     "cell_type": "markdown",
     "metadata": {},
     "source": [
      "###What is Async For? \n",
      "\n",
      "Minimize resources per connection.  Memory bound.\n",
      "\n",
      "C10K Problem (kegel.com/c10k.html)\n",
      "\n",
      "Async is hard\n",
      "\n",
      "Ways to store state:\n",
      "- Threads vs Callbacks\n",
      "- Coroutines vs Greenlets"
     ]
    },
    {
     "cell_type": "markdown",
     "metadata": {},
     "source": [
      "### What is Async?\n",
      "\n",
      "- Single-threaded\n",
      "- I/O concurrency\n",
      "- Non-blocking sockets\n",
      "- epoll/kqueue\n",
      "- Event Loop"
     ]
    },
    {
     "cell_type": "markdown",
     "metadata": {},
     "source": [
      "### asyncio\n",
      "\n",
      "- AKA \"Tulip\"\n",
      "- Python 3.4 stdlib\n",
      "- Implements PEP 3156\n",
      "- Standard event loop\n",
      "- Coroutines"
     ]
    },
    {
     "cell_type": "markdown",
     "metadata": {},
     "source": [
      "### Example App\n",
      "\n",
      "Layers\n",
      "- Application (example.py)\n",
      "- Protocol (autobahn websockets)\n",
      "- Transport & Event Loop (asyncio)\n",
      "- Selectors (abstracts epoll/kqueue, OS agnostic)"
     ]
    },
    {
     "cell_type": "markdown",
     "metadata": {},
     "source": [
      "### Should I Use It\n",
      "\n",
      "Yes\n",
      "- Slow Backend (Pizza)\n",
      "- Websockets (Sushi)\n",
      "- Many connections\n",
      "\n",
      "No:\n",
      "- CPU Bound (Subs)\n",
      "- No async driver\n",
      "- No async expertise"
     ]
    },
    {
     "cell_type": "code",
     "collapsed": false,
     "input": [],
     "language": "python",
     "metadata": {},
     "outputs": []
    }
   ],
   "metadata": {}
  }
 ]
}