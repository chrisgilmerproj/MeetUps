{
 "metadata": {
  "name": "",
  "signature": "sha256:499ae6cdcf9eea1ab9a2d41df9754853b80d93fc88f2246cf3232b111a90a6e3"
 },
 "nbformat": 3,
 "nbformat_minor": 0,
 "worksheets": [
  {
   "cells": [
    {
     "cell_type": "markdown",
     "metadata": {},
     "source": [
      "## Kneel and Disconnect: Getting the Fastest Connection Out Of A Hostname\n",
      "\n",
      "Ashwini Oruganti\n",
      "\n",
      "https://us.pycon.org/2014/schedule/presentation/156/\n",
      "\n",
      "http://twistedmatrix.com/trac/ticket/4859\n",
      "\n",
      "@_ashfall_"
     ]
    },
    {
     "cell_type": "code",
     "collapsed": false,
     "input": [
      "import socket\n",
      "socket.getaddrinfo('www.google.com',80)"
     ],
     "language": "python",
     "metadata": {},
     "outputs": [
      {
       "metadata": {},
       "output_type": "pyout",
       "prompt_number": 15,
       "text": [
        "[(2, 1, 6, '', ('74.125.131.104', 80)),\n",
        " (2, 1, 6, '', ('74.125.131.105', 80)),\n",
        " (2, 2, 17, '', ('74.125.131.104', 80)),\n",
        " (2, 2, 17, '', ('74.125.131.105', 80)),\n",
        " (2, 2, 17, '', ('74.125.131.99', 80)),\n",
        " (2, 1, 6, '', ('74.125.131.99', 80)),\n",
        " (2, 2, 17, '', ('74.125.131.103', 80)),\n",
        " (2, 1, 6, '', ('74.125.131.103', 80)),\n",
        " (2, 2, 17, '', ('74.125.131.147', 80)),\n",
        " (2, 1, 6, '', ('74.125.131.147', 80)),\n",
        " (2, 1, 6, '', ('74.125.131.106', 80)),\n",
        " (2, 2, 17, '', ('74.125.131.106', 80)),\n",
        " (30, 2, 17, '', ('2607:f8b0:400c:c03::68', 80, 0, 0)),\n",
        " (30, 1, 6, '', ('2607:f8b0:400c:c03::68', 80, 0, 0))]"
       ]
      }
     ],
     "prompt_number": 15
    }
   ],
   "metadata": {}
  }
 ]
}