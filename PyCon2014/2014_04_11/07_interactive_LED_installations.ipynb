{
 "metadata": {
  "name": "",
  "signature": "sha256:191d43dac59a2eb70a231e410a254d5852ece1648bf8638e6efe25e840d3458d"
 },
 "nbformat": 3,
 "nbformat_minor": 0,
 "worksheets": [
  {
   "cells": [
    {
     "cell_type": "markdown",
     "metadata": {},
     "source": [
      "## Blending art, technology, and light\n",
      "### Python for interactive and real time LED installations\n",
      "\n",
      "Preston Holmes\n",
      "\n",
      "@ptone\n",
      "\n",
      "https://us.pycon.org/2014/schedule/presentation/233/"
     ]
    },
    {
     "cell_type": "markdown",
     "metadata": {},
     "source": [
      "- Creative Effects\n",
      "- Software Libs\n",
      "- Interface & Protocols\n",
      "- LED Controller Hardware\n",
      "- LED"
     ]
    },
    {
     "cell_type": "markdown",
     "metadata": {},
     "source": [
      "### RGB LEDs\n",
      "\n",
      "5050 surface mount package\n",
      "\n",
      "Smart vs Dumb LEDs\n",
      "\n",
      "WS2811/2812 - NeoPixel\n",
      "\n",
      "Unit of Control = Pixel\n",
      "\n",
      "5V Serial protocol, high clock rate\n",
      "\n",
      "Libs:\n",
      "- http://fastled.io\n",
      "\n",
      "Devices:\n",
      "- Arduino\n",
      "- SanDevices E682\n",
      "- Jushua1Systems ECG-PIXAD8\n",
      "\n",
      "Protocols:\n",
      "- DMX512 Protocol (Theatre Lighting)\n",
      "  - 512 channels (universe)\n",
      "- E1.31 (DMX over Ethernet)\n",
      "\n",
      "Software:\n",
      "- http://www.openlighting.org/ola/\n",
      "- http://github.com/ptone/lumos (E1.31 protocol in python)\n",
      "- Madrix\n",
      "\n",
      "Layers:\n",
      "- Inputs (events)\n",
      "- Elements (single, groups, effects)\n",
      "- Outputs (DMX, E1.31)\n",
      "\n",
      "http://github.com/ptone/BirdFish\n",
      "\n",
      "Events\n",
      "- Trigger (digital)\n",
      "- Map (analog)\n",
      "\n",
      "Inputs:\n",
      "- MIDI\n",
      "- OSC (Open Sound Control)\n",
      "\n",
      "Envelopes\n",
      "- Attack\n",
      "- Decay\n",
      "- Sustain\n",
      "- Release\n",
      "\n",
      "Tweening (Ease in and out, nonlinear motion for natural feel)\n",
      "\n",
      "At least 10-12 frames/sec to get motion to look good\n",
      "\n",
      "40 frames/sec is pretty good"
     ]
    },
    {
     "cell_type": "code",
     "collapsed": false,
     "input": [],
     "language": "python",
     "metadata": {},
     "outputs": []
    }
   ],
   "metadata": {}
  }
 ]
}