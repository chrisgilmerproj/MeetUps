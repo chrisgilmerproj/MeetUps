{
 "metadata": {
  "name": "",
  "signature": "sha256:6f86651af3f643ab6fb87a19ac2faefbe0eac4cf36beb3ddd30c974672ebaa47"
 },
 "nbformat": 3,
 "nbformat_minor": 0,
 "worksheets": [
  {
   "cells": [
    {
     "cell_type": "markdown",
     "metadata": {},
     "source": [
      "## Puppet Modules: Apps for Ops\n",
      "\n",
      "Justin Bronn, Esq.\n",
      "\n",
      "@jbronn"
     ]
    },
    {
     "cell_type": "markdown",
     "metadata": {},
     "source": [
      "https://github.com/jbronn\n",
      "https://speakerdeck.com/jbronn\n",
      "\n",
      "### Configuration Mgmt\n",
      "\n",
      "- Complexity\n"
     ]
    },
    {
     "cell_type": "code",
     "collapsed": false,
     "input": [],
     "language": "python",
     "metadata": {},
     "outputs": []
    }
   ],
   "metadata": {}
  }
 ]
}