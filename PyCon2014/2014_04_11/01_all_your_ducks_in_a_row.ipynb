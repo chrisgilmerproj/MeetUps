{
 "metadata": {
  "name": "",
  "signature": "sha256:981ad915ccad9a44180157e7c40f50ff0900db85e61f7165ced8448278ff8156"
 },
 "nbformat": 3,
 "nbformat_minor": 0,
 "worksheets": [
  {
   "cells": [
    {
     "cell_type": "markdown",
     "metadata": {},
     "source": [
      "## All your Ducks In A Row\n",
      "\n",
      "Data Structures in the Stdlib\n",
      "\n",
      "@brandon_rhodes\n",
      "\n",
      "https://us.pycon.org/2014/schedule/presentation/211/"
     ]
    },
    {
     "cell_type": "markdown",
     "metadata": {},
     "source": [
      "- How do data structures work\n",
      "- What can they do efficiently\n",
      "- Which data structure is most dangerous (the list)"
     ]
    },
    {
     "cell_type": "code",
     "collapsed": false,
     "input": [],
     "language": "python",
     "metadata": {},
     "outputs": []
    }
   ],
   "metadata": {}
  }
 ]
}