{
 "metadata": {
  "name": "",
  "signature": "sha256:9218a1e8524b443338d9763a7d5ece6b0d58ff17c277982804cb15e5552c3a01"
 },
 "nbformat": 3,
 "nbformat_minor": 0,
 "worksheets": [
  {
   "cells": [
    {
     "cell_type": "markdown",
     "metadata": {},
     "source": [
      "## By Your Bootstraps: Porting Your Application to Python3\n",
      "\n",
      "Tres Seaver\n",
      "\n",
      "\n",
      "### Topics\n",
      "- Straddling Python 2/3\n",
      "- Choosing target versions\n",
      "- Porting as an iterative process\n",
      "- Adding test coverage to reduce risk\n",
      "- Covering C Extensions\n",
      "- Porting Hygeine"
     ]
    },
    {
     "cell_type": "markdown",
     "metadata": {},
     "source": [
      "### Core Strategy - Straddle\n",
      "\n",
      "- Use `six` \n",
      "- Support only python > 2.6 or > 2.7, must choose\n",
      "- Support only python > 3.2"
     ]
    },
    {
     "cell_type": "markdown",
     "metadata": {},
     "source": [
      "### Managing Risks\n",
      "\n",
      "- Opportunity for bug injection\n",
      "- Fear breaking working software\n",
      "\n",
      "- Improve testing\n",
      "- Use more modern python idioms\n",
      "- clarity in text vs bytes"
     ]
    },
    {
     "cell_type": "markdown",
     "metadata": {},
     "source": [
      "### Bottom up porting\n",
      "\n",
      "- 100% Test Coverage\n",
      "- Port packages with no dependencies first\n",
      "- Port packages with already ported dependencies\n",
      "- Make sure to check which versions of python3 are supported"
     ]
    },
    {
     "cell_type": "markdown",
     "metadata": {},
     "source": [
      "### Advice\n",
      "\n",
      "http://python3porting.com/noconv.html\n",
      "\n",
      "- try with `python2.7 -3`\n",
      "- Always use `b''`/`u''`\n",
      "- `print()`\n",
      "- Fix exceptions\n",
      "- `io.BytesIO` vs `StringIO.StringIO`"
     ]
    },
    {
     "cell_type": "markdown",
     "metadata": {},
     "source": [
      "### Use `tox` project \n",
      "\n",
      "to automate testing inside virtualenvs for different versions of python"
     ]
    },
    {
     "cell_type": "markdown",
     "metadata": {},
     "source": [
      "### C Extensions\n",
      "\n",
      "http://python3porting.com/cextensions.html\n",
      "\n",
      "- Hard to examine C code\n",
      "- Can't use `coverage`\n",
      "- Put all test cases in a base class and then derive for each version of python with substitutions\n",
      "- Can also separate c-code tests from pure python tests"
     ]
    },
    {
     "cell_type": "markdown",
     "metadata": {},
     "source": [
      "### Classifiers\n",
      "\n",
      "- Use `classifiers` in setup.py to explicitly support different versions of python"
     ]
    },
    {
     "cell_type": "code",
     "collapsed": false,
     "input": [],
     "language": "python",
     "metadata": {},
     "outputs": []
    }
   ],
   "metadata": {}
  }
 ]
}