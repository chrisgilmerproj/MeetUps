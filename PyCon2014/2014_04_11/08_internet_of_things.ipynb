{
 "metadata": {
  "name": "",
  "signature": "sha256:e5cf20f58e7824d7a058069280d33aa0953b7bcdf949488d6d2d470d229d4a9d"
 },
 "nbformat": 3,
 "nbformat_minor": 0,
 "worksheets": [
  {
   "cells": [
    {
     "cell_type": "markdown",
     "metadata": {},
     "source": [
      "## Hello Physical World: A Crash Course on the Internet of Things\n",
      "\n",
      "Katherine Scott\n",
      "\n",
      "https://us.pycon.org/2014/schedule/presentation/213/"
     ]
    },
    {
     "cell_type": "markdown",
     "metadata": {},
     "source": [
      "Rats on the Internet\n",
      "\n",
      "BF Skinner (Skinner Box)\n",
      "\n",
      "Operant Conditioning\n",
      "\n",
      "Build your own Skinner box with RPi and hardware\n",
      "\n"
     ]
    }
   ],
   "metadata": {}
  }
 ]
}