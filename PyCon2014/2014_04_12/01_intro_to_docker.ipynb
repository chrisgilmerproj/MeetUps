{
 "metadata": {
  "name": "",
  "signature": "sha256:281237ad8fa7c370bb585479abcdbae6b7bcea8bf40baff13008ce1bc8fa2010"
 },
 "nbformat": 3,
 "nbformat_minor": 0,
 "worksheets": [
  {
   "cells": [
    {
     "cell_type": "markdown",
     "metadata": {},
     "source": [
      "## Introduction to Docker\n",
      "\n",
      "Amjith Ramanujam @amjithr\n",
      "\n",
      "https://us.pycon.org/2014/schedule/presentation/209/"
     ]
    },
    {
     "cell_type": "markdown",
     "metadata": {},
     "source": [
      "Docker at New Relic\n",
      "\n",
      "Similar to:\n",
      "- CHROOT\n",
      "- BSD Jails\n",
      "- Solaris Zones\n",
      "\n",
      "Uses:\n",
      "- Linux Containers\n",
      "- AUFS\n",
      "- Git like versioning\n",
      "- REST API\n",
      "\n",
      "Use Dockerfile for reproducability, provisioning step\n",
      "\n",
      "Forward ports:\n",
      "\n",
      "`docker run -d -p host_port:container_port django-docker`\n",
      "\n",
      "You can also mount folders\n",
      "\n",
      "`docker run -v host_path:container_path django`\n",
      "\n",
      "Links: Service discovery through env vars\n",
      "\n",
      "`docker run --link mysql:db --name webapp django`\n",
      "\n",
      "REST API (Shipyard)\n",
      "\n",
      "At NR they use containers for testing, using links to different services\n",
      "\n",
      "Put application stack in its own container, ie:\n",
      "- Mysql\n",
      "- App Stack (Django, mod_wsgi, Apache)\n",
      "- Celery\n",
      "- Redis\n",
      "\n",
      "Deploy: Dev -> Registry -> PROD\n",
      "\n",
      "http://newrelic.com/pycon"
     ]
    },
    {
     "cell_type": "markdown",
     "metadata": {},
     "source": [
      "### Tips\n",
      "\n",
      "- Add ssh to all containers\n",
      "- lxc-attach is another way to get into interactive mode in container if you don't want ssh\n",
      "- Always have a staging environment\n",
      "- Good way to sandbox with docker, restrict memory usage\n",
      "- virtualenv -> docker at the image creation step\n",
      "- "
     ]
    },
    {
     "cell_type": "code",
     "collapsed": false,
     "input": [],
     "language": "python",
     "metadata": {},
     "outputs": []
    }
   ],
   "metadata": {}
  }
 ]
}