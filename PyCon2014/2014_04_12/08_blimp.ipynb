{
 "metadata": {
  "name": "",
  "signature": "sha256:a924f3617e5cee76ed3267699dae6ce613acc1fb317b9a6b5ef665c33d427520"
 },
 "nbformat": 3,
 "nbformat_minor": 0,
 "worksheets": [
  {
   "cells": [
    {
     "cell_type": "markdown",
     "metadata": {},
     "source": [
      "## Programming an Autonomous 20 Foot Blimp with Python\n",
      "\n",
      "Scott Lobdell @slobdell3\n",
      "\n",
      "https://us.pycon.org/2014/schedule/presentation/194/\n",
      "\n",
      "EBlimp.com\n",
      "\n",
      "Aericam.com\n",
      "\n",
      "HusToKnow.blogspot.com\n",
      "\n",
      "scottlobdell.me/2014/04/pycon-resources/\n",
      "\n",
      "slobdell@hearsaysocial.com"
     ]
    },
    {
     "cell_type": "code",
     "collapsed": false,
     "input": [],
     "language": "python",
     "metadata": {},
     "outputs": []
    }
   ],
   "metadata": {}
  }
 ]
}