{
 "metadata": {
  "name": "",
  "signature": "sha256:269f97db8cb86ef2b8f644333812e1dc18eba9b5e94d55ab5cf9dfaa6b8523da"
 },
 "nbformat": 3,
 "nbformat_minor": 0,
 "worksheets": [
  {
   "cells": [
    {
     "cell_type": "markdown",
     "metadata": {},
     "source": [
      "## Subprocess to FFI\n",
      "\n",
      "### Memory, Performance, and Why You Shouldn't Shell Out\n",
      "\n",
      "Christine Spang @spang\n",
      "\n",
      "https://us.pycon.org/2014/schedule/presentation/190/\n",
      "\n",
      "http://cffi.readthedocs.org/en/release-0.8/"
     ]
    },
    {
     "cell_type": "markdown",
     "metadata": {},
     "source": [
      "### Why you shouldn't shell out"
     ]
    },
    {
     "cell_type": "code",
     "collapsed": false,
     "input": [
      "import subprocess\n",
      "help(subprocess.check_call)"
     ],
     "language": "python",
     "metadata": {},
     "outputs": [
      {
       "output_type": "stream",
       "stream": "stdout",
       "text": [
        "Help on function check_call in module subprocess:\n",
        "\n",
        "check_call(*popenargs, **kwargs)\n",
        "    Run command with arguments.  Wait for command to complete.  If\n",
        "    the exit code was zero then return, otherwise raise\n",
        "    CalledProcessError.  The CalledProcessError object will have the\n",
        "    return code in the returncode attribute.\n",
        "    \n",
        "    The arguments are the same as for the Popen constructor.  Example:\n",
        "    \n",
        "    check_call([\"ls\", \"-l\"])\n",
        "\n"
       ]
      }
     ],
     "prompt_number": 2
    },
    {
     "cell_type": "code",
     "collapsed": false,
     "input": [
      "from inspect import getsourcefile\n",
      "getsourcefile(subprocess)"
     ],
     "language": "python",
     "metadata": {},
     "outputs": [
      {
       "metadata": {},
       "output_type": "pyout",
       "prompt_number": 3,
       "text": [
        "'/usr/local/Cellar/python/2.7.5/Frameworks/Python.framework/Versions/2.7/lib/python2.7/subprocess.py'"
       ]
      }
     ],
     "prompt_number": 3
    },
    {
     "cell_type": "markdown",
     "metadata": {},
     "source": [
      "### Why shell out\n",
      "\n",
      "- Simple and easy\n",
      "- flexible\n",
      "- throws native python exceptions\n",
      "\n",
      "Dangers:\n",
      "- Overhead (fork, file I/O vs memory)\n",
      "- limited API\n",
      "- Parsting stdout/stderr\n",
      "- flushing, buffering, deadlocks issues w/pipes\n",
      "\n",
      "Do it anyway!"
     ]
    },
    {
     "cell_type": "markdown",
     "metadata": {},
     "source": [
      "### Wrapping C Libraries\n",
      "\n",
      "FFI: Foreign Function Interface (ie using a different language in python)\n",
      "\n",
      "- C extension: write lots of C with Python's C API\n",
      "- ctypes: stdlib (wraps libffi), no C compiler needed, tedious & clunky\n",
      "- Cython: Hybrid python/C language, optimizing speed\n",
      "- CFFI: From PyPy, fixes ctypes shortcommings, ABI or API interface\n",
      "\n",
      "CFFI is what we talk about\n",
      "\n",
      "Can wrap the lib, in this case libiconv\n",
      "\n",
      "Goal: Write less C and more Python"
     ]
    },
    {
     "cell_type": "code",
     "collapsed": false,
     "input": [],
     "language": "python",
     "metadata": {},
     "outputs": []
    }
   ],
   "metadata": {}
  }
 ]
}