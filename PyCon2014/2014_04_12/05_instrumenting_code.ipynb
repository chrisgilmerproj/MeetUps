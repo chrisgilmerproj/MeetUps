{
 "metadata": {
  "name": "",
  "signature": "sha256:98d79b6d49848e8371937fe4f5b74b2fe61d29ded148f84db6dc38e8e4ef5d08"
 },
 "nbformat": 3,
 "nbformat_minor": 0,
 "worksheets": [
  {
   "cells": [
    {
     "cell_type": "markdown",
     "metadata": {},
     "source": [
      "## Data intensive biology in the cloud\n",
      "\n",
      "### Instrumenting ALL the things\n",
      "\n",
      "Titus Brown\n",
      "\n",
      "https://us.pycon.org/2014/schedule/presentation/181/\n",
      "\n",
      "http://github.com/ged-lab\n",
      "\n",
      "- khmer\n",
      "- khmer-protocols\n",
      "- listerate-resting\n",
      "\n",
      "http://ivory.idyll.org/blog/2014-pycon.html"
     ]
    },
    {
     "cell_type": "markdown",
     "metadata": {},
     "source": [
      "Strategies\n",
      "- Greedy\n",
      "- N2\n",
      "- Dutch (match similarities)\n",
      "\n",
      "Dutch approach\n",
      "- Linear in time\n",
      "- Linear in memory\n",
      "\n",
      "`sar` utility from `sysstat`\n",
      "\n",
      "Try to reduce RAM use in processes\n",
      "\n",
      "Measure hours vs cost\n",
      "\n",
      "Can compare machine types across data disk, working disk, hours and cost\n",
      "\n",
      "Non-Uniform Memory Arcitecture (NUMA) costs, ie more memory takes more time, linearly\n",
      "- Had to benchmark this\n",
      "- fast disk, lots of disk, but not both\n",
      "\n",
      "Use data streaming/in-memory approach\n",
      "\n",
      "Invest in cache-local infrastructure\n",
      "\n",
      "Optimization vs Scaling\n",
      "- Linear time/memory improvements would not address core problem\n",
      "- Graph problem, not friendly to todays architectures\n",
      "- Need to scale algorithms\n",
      "- Can now run on single-chassis, 15GB RAM computers\n",
      "\n",
      "What are we losing by focusing our engineering on parallel problems?\n",
      "- Hadoop not interesting\n",
      "- Research is abot the 100x improvement, not 10x\n",
      "- Scaling new problems, evaluating/creating new datastructures and algorithms"
     ]
    },
    {
     "cell_type": "code",
     "collapsed": false,
     "input": [],
     "language": "python",
     "metadata": {},
     "outputs": []
    }
   ],
   "metadata": {}
  }
 ]
}