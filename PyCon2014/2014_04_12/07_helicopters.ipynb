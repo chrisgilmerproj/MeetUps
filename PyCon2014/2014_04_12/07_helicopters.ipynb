{
 "metadata": {
  "name": "",
  "signature": "sha256:955b2bfe1dc5046fedfad13d3af8d44f91335ed6a760d687332d47a926040602"
 },
 "nbformat": 3,
 "nbformat_minor": 0,
 "worksheets": [
  {
   "cells": [
    {
     "cell_type": "markdown",
     "metadata": {},
     "source": [
      "##Cheap Helicopters In My Living Room\n",
      "\n",
      "Ned Jackson Lovely\n",
      "\n",
      "@nedjl njl@njl.us\n",
      "\n",
      "http://www.njl.us"
     ]
    },
    {
     "cell_type": "code",
     "collapsed": false,
     "input": [],
     "language": "python",
     "metadata": {},
     "outputs": []
    }
   ],
   "metadata": {}
  }
 ]
}