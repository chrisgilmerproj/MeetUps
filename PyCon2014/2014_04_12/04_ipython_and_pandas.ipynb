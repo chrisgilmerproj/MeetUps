{
 "metadata": {
  "name": "",
  "signature": "sha256:3916aa4b0aba4b8558038be9b79f02a60c3284cf230b8e8b7a1426e09d9617a7"
 },
 "nbformat": 3,
 "nbformat_minor": 0,
 "worksheets": [
  {
   "cells": [
    {
     "cell_type": "markdown",
     "metadata": {},
     "source": [
      "## Diving into Open Data with IPython Notebook & Pandas\n",
      "\n",
      "Julia Evans @b0rk http://jvns.ca\n",
      "\n",
      "http://bit.ly/pycon-pandas\n",
      "\n",
      "http://nbviewer.ipython.org/urls/raw.githubusercontent.com/jvns/talks/master/pycon2014/bike_paths.ipynb?create=1\n",
      "\n",
      "https://github.com/jvns/pandas-cookbook"
     ]
    },
    {
     "cell_type": "code",
     "collapsed": false,
     "input": [
      "import pandas as pd\n"
     ],
     "language": "python",
     "metadata": {},
     "outputs": [],
     "prompt_number": 3
    },
    {
     "cell_type": "code",
     "collapsed": false,
     "input": [],
     "language": "python",
     "metadata": {},
     "outputs": []
    }
   ],
   "metadata": {}
  }
 ]
}