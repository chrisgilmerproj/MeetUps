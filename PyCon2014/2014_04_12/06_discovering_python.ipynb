{
 "metadata": {
  "name": "",
  "signature": "sha256:edbd35105da3ea9fbbfb63e3e55b4be2b8cf6d2ca85550b194aaa03ec0334888"
 },
 "nbformat": 3,
 "nbformat_minor": 0,
 "worksheets": [
  {
   "cells": [
    {
     "cell_type": "markdown",
     "metadata": {},
     "source": [
      "## Discovering Python\n",
      "\n",
      "David Beazley\n",
      "\n",
      "https://us.pycon.org/2014/schedule/presentation/198/"
     ]
    },
    {
     "cell_type": "markdown",
     "metadata": {},
     "source": [
      "Patent litigation"
     ]
    },
    {
     "cell_type": "code",
     "collapsed": false,
     "input": [],
     "language": "python",
     "metadata": {},
     "outputs": []
    }
   ],
   "metadata": {}
  }
 ]
}