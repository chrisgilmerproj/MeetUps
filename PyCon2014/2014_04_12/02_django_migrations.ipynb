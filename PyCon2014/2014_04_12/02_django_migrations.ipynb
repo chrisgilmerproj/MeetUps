{
 "metadata": {
  "name": "",
  "signature": "sha256:65c63b64616c88f65ddaadc73d06d547e071e1ab54175f11419dd402e0796d04"
 },
 "nbformat": 3,
 "nbformat_minor": 0,
 "worksheets": [
  {
   "cells": [
    {
     "cell_type": "markdown",
     "metadata": {},
     "source": [
      "## Designing Django's Migrations\n",
      "\n",
      "Andrew Godwin\n",
      "\n",
      "https://us.pycon.org/2014/schedule/presentation/161/"
     ]
    },
    {
     "cell_type": "markdown",
     "metadata": {},
     "source": [
      "South was the old standard\n",
      "\n",
      "Adding migrations to Django, not South in Django\n",
      "\n",
      "Available for Django 1.7\n",
      "\n",
      "New Migration Format: Declarative\n",
      "\n",
      "Very small format, uses in memory running\n",
      "\n",
      "Use PostgreSQL with Django (transactions FTW)\n",
      "\n",
      "Add initial migration is all that's required for moving to 1.7 or upgrade South and let it redo from scratch\n",
      "\n",
      "End of May release for 1.7"
     ]
    },
    {
     "cell_type": "markdown",
     "metadata": {},
     "source": [
      "### Tips\n",
      "\n",
      "run_sql() - sql migrations\n",
      "\n",
      "run_python() - data migrations"
     ]
    },
    {
     "cell_type": "code",
     "collapsed": false,
     "input": [],
     "language": "python",
     "metadata": {},
     "outputs": []
    }
   ],
   "metadata": {}
  }
 ]
}