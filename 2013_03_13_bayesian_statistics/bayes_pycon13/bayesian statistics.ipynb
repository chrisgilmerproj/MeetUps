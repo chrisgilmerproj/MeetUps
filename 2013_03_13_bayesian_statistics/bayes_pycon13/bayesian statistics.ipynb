{
 "metadata": {
  "name": "bayesian statistics"
 },
 "nbformat": 3,
 "nbformat_minor": 0,
 "worksheets": [
  {
   "cells": [
    {
     "cell_type": "raw",
     "metadata": {},
     "source": [
      "Slides at: https://sites.google.com/site/simplebayes/home/pycon-2013"
     ]
    },
    {
     "cell_type": "raw",
     "metadata": {},
     "source": [
      "p(A): the probability that A occurs\n",
      "p(A|B): the probability that A occurs, given that B has occurred\n",
      "\n",
      "Conjoint probability:\n",
      "p(A and B) = p(A)p(B|A)"
     ]
    },
    {
     "cell_type": "markdown",
     "metadata": {},
     "source": [
      "Bayes theorem: \n",
      "\n",
      "$$ p(A|B)=\\frac{p(B|A)\\times p(A)}{p(B)} $$"
     ]
    },
    {
     "cell_type": "markdown",
     "metadata": {},
     "source": [
      "Diachronic interpretation\n",
      "H: Hypothesis\n",
      "D: Data\n",
      "\n",
      "p(H) -> p(H|D)\n",
      "prior -> posterior\n",
      "\n",
      "$$ p(D|H)=\\frac{p(H)\\times p(D|H)}{p(D)} $$\n",
      "\n",
      "p(H): prior = 1/2\n",
      "p(D|H): conditional likelihood of data = 3/4\n",
      "p(D): total likelihood of data = 5/8"
     ]
    },
    {
     "cell_type": "code",
     "collapsed": false,
     "input": [
      "pH = 0.5 * 0.75 / 0.625\n",
      "pH"
     ],
     "language": "python",
     "metadata": {},
     "outputs": [
      {
       "output_type": "pyout",
       "prompt_number": 13,
       "text": [
        "0.6"
       ]
      }
     ],
     "prompt_number": 13
    },
    {
     "cell_type": "markdown",
     "metadata": {},
     "source": [
      "Pmf (Probability Mass Function) - dictionary(values might occur: values does occur)"
     ]
    },
    {
     "cell_type": "code",
     "collapsed": false,
     "input": [
      "# Test install setup\n",
      "import math\n",
      "import numpy\n",
      "\n",
      "from matplotlib import pyplot\n",
      "\n",
      "import myplot\n",
      "import thinkbayes\n",
      "\n",
      "\n",
      "def RenderPdf(mu, sigma, n=101):\n",
      "    \"\"\"Makes xs and ys for a normal PDF with (mu, sigma).\n",
      "\n",
      "    n: number of places to evaluate the PDF\n",
      "    \"\"\"\n",
      "    xs = numpy.linspace(mu-4*sigma, mu+4*sigma, n)\n",
      "    ys = [thinkbayes.EvalGaussianPdf(mu, sigma, x) for x in xs]\n",
      "    return xs, ys\n",
      "\n",
      "\n",
      "def main():\n",
      "    xs, ys = RenderPdf(100, 15)\n",
      "\n",
      "    n = 34\n",
      "    pyplot.fill_between(xs[-n:], ys[-n:], y2=0.0001, color='blue', alpha=0.2)\n",
      "    s = 'Congratulations!\\nIf you got this far,\\nyou must be here.'\n",
      "    d = dict(shrink=0.05)\n",
      "    pyplot.annotate(s, [127, 0.002], xytext=[80, 0.005], arrowprops=d)\n",
      "\n",
      "    myplot.Plot(xs, ys)\n",
      "    myplot.Show(title='Distribution of IQ',\n",
      "                xlabel='IQ',\n",
      "                ylabel='PDF',\n",
      "                legend=False)\n",
      "main()"
     ],
     "language": "python",
     "metadata": {},
     "outputs": [
      {
       "output_type": "display_data",
       "png": "[encoded data removed]"
      }
     ],
     "prompt_number": 1
    },
    {
     "cell_type": "heading",
     "level": 3,
     "metadata": {},
     "source": [
      "Dice Example:"
     ]
    },
    {
     "cell_type": "code",
     "collapsed": false,
     "input": [
      "from thinkbayes import Pmf\n",
      "\n",
      "pmf = Pmf()\n",
      "for x in range(1, 7):\n",
      "    pmf.Set(x, 1)\n",
      "    \n",
      "pmf.Print()\n",
      "print\n",
      "pmf.Normalize()\n",
      "pmf.Print()"
     ],
     "language": "python",
     "metadata": {},
     "outputs": [
      {
       "output_type": "stream",
       "stream": "stdout",
       "text": [
        "1 1\n",
        "2 1\n",
        "3 1\n",
        "4 1\n",
        "5 1\n",
        "6 1\n",
        "\n",
        "1 0.166666666667\n",
        "2 0.166666666667\n",
        "3 0.166666666667\n",
        "4 0.166666666667\n",
        "5 0.166666666667\n",
        "6 0.166666666667\n"
       ]
      }
     ],
     "prompt_number": 2
    },
    {
     "cell_type": "heading",
     "level": 3,
     "metadata": {},
     "source": [
      "Cookie Example:"
     ]
    },
    {
     "cell_type": "code",
     "collapsed": false,
     "input": [
      "# Re-initialize\n",
      "pmf = Pmf()\n",
      "\n",
      "# prior\n",
      "pmf.Set('Bowl 1', 0.5)\n",
      "pmf.Set('Bowl 2', 0.5)\n",
      "pmf.Print()"
     ],
     "language": "python",
     "metadata": {},
     "outputs": [
      {
       "output_type": "stream",
       "stream": "stdout",
       "text": [
        "Bowl 1 0.5\n",
        "Bowl 2 0.5\n"
       ]
      }
     ],
     "prompt_number": 3
    },
    {
     "cell_type": "code",
     "collapsed": false,
     "input": [
      "# Update\n",
      "pmf.Mult('Bowl 1', 0.75)\n",
      "pmf.Mult('Bowl 2', 0.5)\n",
      "pmf.Print()"
     ],
     "language": "python",
     "metadata": {},
     "outputs": [
      {
       "output_type": "stream",
       "stream": "stdout",
       "text": [
        "Bowl 1 0.375\n",
        "Bowl 2 0.25\n"
       ]
      }
     ],
     "prompt_number": 4
    },
    {
     "cell_type": "code",
     "collapsed": false,
     "input": [
      "# Normalize\n",
      "pmf.Normalize()\n",
      "pmf.Print()"
     ],
     "language": "python",
     "metadata": {},
     "outputs": [
      {
       "output_type": "stream",
       "stream": "stdout",
       "text": [
        "Bowl 1 0.6\n",
        "Bowl 2 0.4\n"
       ]
      }
     ],
     "prompt_number": 5
    },
    {
     "cell_type": "code",
     "collapsed": false,
     "input": [
      "# Print Posterior Probability\n",
      "print pmf.Prob('Bowl 1')\n",
      "print pmf.Prob('Bowl 2')"
     ],
     "language": "python",
     "metadata": {},
     "outputs": [
      {
       "output_type": "stream",
       "stream": "stdout",
       "text": [
        "0.6\n",
        "0.4\n"
       ]
      }
     ],
     "prompt_number": 6
    },
    {
     "cell_type": "heading",
     "level": 3,
     "metadata": {},
     "source": [
      "D&D Dice question with Suite:"
     ]
    },
    {
     "cell_type": "code",
     "collapsed": false,
     "input": [
      "from thinkbayes import Suite"
     ],
     "language": "python",
     "metadata": {},
     "outputs": [],
     "prompt_number": 7
    },
    {
     "cell_type": "code",
     "collapsed": false,
     "input": [
      "suite = Suite([4, 6, 8, 12, 20])\n",
      "suite.Print()"
     ],
     "language": "python",
     "metadata": {},
     "outputs": [
      {
       "output_type": "stream",
       "stream": "stdout",
       "text": [
        "4 0.2\n",
        "6 0.2\n",
        "8 0.2\n",
        "12 0.2\n",
        "20 0.2\n"
       ]
      }
     ],
     "prompt_number": 8
    },
    {
     "cell_type": "code",
     "collapsed": false,
     "input": [
      "class Dice(Suite):\n",
      "    def Likelihood(self, hypo, data):\n",
      "        if hypo < data:\n",
      "            return 0.0  # unlikely to be this dice\n",
      "        return 1.0/hypo # equally likely it could be any number"
     ],
     "language": "python",
     "metadata": {},
     "outputs": [],
     "prompt_number": 9
    },
    {
     "cell_type": "code",
     "collapsed": false,
     "input": [
      "suite = Dice([4, 6, 8, 12, 20])\n",
      "suite.Update(6)\n",
      "suite.Print()"
     ],
     "language": "python",
     "metadata": {},
     "outputs": [
      {
       "output_type": "stream",
       "stream": "stdout",
       "text": [
        "4 0.0\n",
        "6 0.392156862745\n",
        "8 0.294117647059\n",
        "12 0.196078431373\n",
        "20 0.117647058824\n"
       ]
      }
     ],
     "prompt_number": 10
    },
    {
     "cell_type": "code",
     "collapsed": false,
     "input": [
      "# reset Dice\n",
      "suite = Dice([4, 6, 8, 12, 20])\n",
      "for roll in [6, 4, 8, 7, 7, 2]:\n",
      "    suite.Update(roll)\n",
      "suite.Print()\n",
      "myplot.Pmf(suite)\n",
      "myplot.Show()"
     ],
     "language": "python",
     "metadata": {},
     "outputs": [
      {
       "output_type": "stream",
       "stream": "stdout",
       "text": [
        "4 0.0\n",
        "6 0.0\n",
        "8 0.915845271969\n",
        "12 0.080403425797\n",
        "20 0.00375130223399\n"
       ]
      },
      {
       "output_type": "display_data",
       "png": "[encoded data removed]"
      }
     ],
     "prompt_number": 13
    },
    {
     "cell_type": "heading",
     "level": 3,
     "metadata": {},
     "source": [
      "German Tank Problem:"
     ]
    },
    {
     "cell_type": "code",
     "collapsed": false,
     "input": [
      "import thinkbayes              \n",
      "import myplot\n",
      "\n",
      "class Train(thinkbayes.Suite): \n",
      "    \"\"\"Suite of hypotheses about the number of trains.\"\"\"\n",
      "\n",
      "    def Likelihood(self, hypo, data):\n",
      "        \"\"\"Computes the likelihood of the data under the hypothesis.\n",
      "\n",
      "        hypo: integer hypothesis about the number of trains\n",
      "        data: integer serial number of the observed train\n",
      "        \"\"\"\n",
      "        if hypo < data:\n",
      "            return 0.0\n",
      "        return 1.0/hypo\n",
      "\n",
      "\n",
      "hypos = xrange(100, 1001)\n",
      "suite = Train(hypos)\n",
      "\n",
      "suite.Update(321)\n",
      "print suite.Mean()\n",
      "\n",
      "myplot.Pmf(suite)\n",
      "myplot.Show()"
     ],
     "language": "python",
     "metadata": {},
     "outputs": [
      {
       "output_type": "stream",
       "stream": "stdout",
       "text": [
        "597.344008084\n"
       ]
      },
      {
       "output_type": "display_data",
       "png": "[encoded data removed]"
      }
     ],
     "prompt_number": 14
    },
    {
     "cell_type": "code",
     "collapsed": false,
     "input": [
      "hypos = xrange(100, 1001)\n",
      "suite = Train(hypos)\n",
      "\n",
      "import random\n",
      "for train in random.sample(xrange(100, 501), 15):\n",
      "    suite.Update(train)\n",
      "print suite.Mean()\n",
      "\n",
      "myplot.Pmf(suite)\n",
      "myplot.Show()"
     ],
     "language": "python",
     "metadata": {},
     "outputs": [
      {
       "output_type": "stream",
       "stream": "stdout",
       "text": [
        "522.826476252\n"
       ]
      },
      {
       "output_type": "display_data",
       "png": "[encoded data removed]"
      }
     ],
     "prompt_number": 25
    },
    {
     "cell_type": "code",
     "collapsed": false,
     "input": [],
     "language": "python",
     "metadata": {},
     "outputs": []
    }
   ],
   "metadata": {}
  }
 ]
}