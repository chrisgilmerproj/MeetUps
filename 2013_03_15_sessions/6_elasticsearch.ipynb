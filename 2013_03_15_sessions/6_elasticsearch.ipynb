{
 "metadata": {
  "name": "6_elasticsearch"
 },
 "nbformat": 3,
 "nbformat_minor": 0,
 "worksheets": [
  {
   "cells": [
    {
     "cell_type": "heading",
     "level": 2,
     "metadata": {},
     "source": [
      "Elasticsearch the Missing Intro"
     ]
    },
    {
     "cell_type": "raw",
     "metadata": {},
     "source": [
      "Erik Rose"
     ]
    },
    {
     "cell_type": "raw",
     "metadata": {},
     "source": [
      "Part 1: Indexing & Querying\n",
      "\n",
      "What is it good for?\n",
      "- Full text search\n",
      "- Big Data\n",
      "- Faceting\n",
      "- Geographical Queries\n",
      "\n",
      "Kimchy is a one man show\n",
      "\n",
      "Data structures\n",
      "- Document store\n",
      "- Look and feel like JSON\n",
      "- Access over HTTP (use cURL)\n",
      "\n",
      "- Index (can have multiple)\n",
      "-- Doctype (tables, class - schema attached)\n",
      "--- Express schema explicitly\n",
      "--- Hash table\n",
      "--- Multiple doctypes ok, use similar names across doctypes for querying\n",
      "\n",
      "Documents:\n",
      "- IDs (try not to use GUIDs)\n",
      "\n",
      "Full text search\n",
      "- Concordence\n",
      "- Inverted index\n",
      "\n",
      "Analysis\n",
      "- Has stock analizers\n",
      "- Case folding\n",
      "- Can use with curl\n",
      "\n",
      "charfilter -> tokenizer -> token filter -> terms\n",
      "\n",
      "can use synonym list\n",
      "\n",
      "\n",
      "Querying:\n",
      "- Query DSL (has queries and filters)\n",
      "- Use JSON, most efficient (essentially ASTs)\n",
      "\n",
      "Filters (when you can)\n",
      "- Boolean\n",
      "- Fast\n",
      "- Cacheable\n",
      "\n",
      "Queries (when you must)\n",
      "- fuzzy, scoring\n",
      "- Slower\n",
      "- Not Cacheable\n",
      "\n",
      "Libraries:\n",
      "- pyes (trouble with level abstraction)\n",
      "- pyelasticsearch (preferred for complex queries)\n",
      "- elasticutils (high level, built on pyelasticsearch, chainable)\n",
      "- django-haystack (django orm, plugable backends)"
     ]
    }
   ],
   "metadata": {}
  }
 ]
}