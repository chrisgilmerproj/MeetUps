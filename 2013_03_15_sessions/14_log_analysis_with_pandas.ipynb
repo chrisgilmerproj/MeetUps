{
 "metadata": {
  "name": "14_log_analysis_with_pandas"
 },
 "nbformat": 3,
 "nbformat_minor": 0,
 "worksheets": [
  {
   "cells": [
    {
     "cell_type": "heading",
     "level": 2,
     "metadata": {},
     "source": [
      "Log Analysis With Pandas"
     ]
    },
    {
     "cell_type": "raw",
     "metadata": {},
     "source": [
      "Taavi Burns\n",
      "@jaaaarel\n",
      "taaviburns.ca\n",
      "taavi@freshbooks.com\n",
      "\n",
      "pandas.pydata.org/\n",
      "https://www.youtube.com/watch?v=ZOpR3P-jAno"
     ]
    },
    {
     "cell_type": "raw",
     "metadata": {},
     "source": [
      "brew install zeromq freetype\n",
      "brew install hdf5\n",
      "\n",
      "pip install ipython pyzmq tornado numpy matplotlib pandas\n",
      "\n",
      "ipython notebook --pylab inline"
     ]
    },
    {
     "cell_type": "raw",
     "metadata": {},
     "source": [
      "dataframes ~= sql table\n",
      "mask ~= filter\n",
      "\n",
      "boolean indexing = great way to make a mask\n",
      "\n",
      "csv is a great way to get stuff into a pandas dataframe\n",
      "has a csv importer\n",
      "\n",
      "disable python garbage collector during import, so just gc.disable, code, gc.enable\n",
      "works if there is no circular logic\n",
      "gc grows memory too much for big data\n",
      "\n",
      "hdf5 store for storing data frames\n",
      "makes it easy to save, close and reload later\n",
      "\n"
     ]
    }
   ],
   "metadata": {}
  }
 ]
}