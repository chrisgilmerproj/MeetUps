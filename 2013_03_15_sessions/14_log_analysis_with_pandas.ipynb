{
 "metadata": {
  "name": "14_log_analysis_with_pandas"
 },
 "nbformat": 3,
 "nbformat_minor": 0,
 "worksheets": [
  {
   "cells": [
    {
     "cell_type": "heading",
     "level": 2,
     "metadata": {},
     "source": [
      "Log Analysis With Pandas"
     ]
    },
    {
     "cell_type": "raw",
     "metadata": {},
     "source": [
      "Taavi Burns\n",
      "@jaaaarel\n",
      "taaviburns.ca\n",
      "taavi@freshbooks.com\n",
      "\n",
      "pandas.pydata.org/"
     ]
    },
    {
     "cell_type": "raw",
     "metadata": {},
     "source": [
      "brew install zeromq freetype\n",
      "brew install hdf5\n",
      "\n",
      "pip install ipython pyzmq tornado numpy matplotlib pandas\n",
      "\n",
      "ipython notebook --pylab inline"
     ]
    }
   ],
   "metadata": {}
  }
 ]
}