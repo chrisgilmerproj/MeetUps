{
 "metadata": {
  "name": "12_sink_or_swim"
 },
 "nbformat": 3,
 "nbformat_minor": 0,
 "worksheets": [
  {
   "cells": [
    {
     "cell_type": "heading",
     "level": 2,
     "metadata": {},
     "source": [
      "Sink or Swim"
     ]
    },
    {
     "cell_type": "raw",
     "metadata": {},
     "source": [
      "Lynn Root\n",
      "@roguelynn\n",
      "https://github.com/econchick\n",
      "http://newcoder.io/"
     ]
    },
    {
     "cell_type": "raw",
     "metadata": {},
     "source": [
      "How we learn CompSci -> How we should learn -> What to learn with\n",
      "\n",
      "15 minutes of fame\n",
      "- Udacity\n",
      "- Hackerspaces\n",
      "- TechIPOs\n",
      "\n",
      "Arguing how best to code\n",
      "- write more clases? less classes?\n",
      "- new languages\n",
      "\n",
      "How to code in an industrial revolution\n",
      "- not books\n",
      "- 4yr degree != l337\n",
      "\n",
      "\"it takes 10 years to turn a novice to expert\"\n",
      "\n",
      "From python the hard way to ... what?\n",
      "\n",
      "Concepts for Granted vs Concepts for Context\n",
      "- underlying meeting\n",
      "\n",
      "episodic vs cumulative\n",
      "- more organized discovery\n",
      "\n",
      "Project Based Learning\n",
      "\n",
      "learning through frustration - touch, ends in success, challening\n",
      "- time to pass on the frustration\n",
      "\n",
      "5 Swim Lessons (conference driven development)\n",
      "- Start where intro leaves off\n",
      "- Each has purpose and goals\n",
      "- Where to go next is included\n",
      "- Set of side effects in each that later has a different tutorial\n",
      "\n",
      "Knowledge actively constructed from experience\n",
      "\n"
     ]
    }
   ],
   "metadata": {}
  }
 ]
}