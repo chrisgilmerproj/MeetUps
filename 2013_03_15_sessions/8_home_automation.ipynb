{
 "metadata": {
  "name": "8_home_automation"
 },
 "nbformat": 3,
 "nbformat_minor": 0,
 "worksheets": [
  {
   "cells": [
    {
     "cell_type": "heading",
     "level": 2,
     "metadata": {},
     "source": [
      "Who\u2019s there? - Home Automation with Arduino/RaspberryPi"
     ]
    },
    {
     "cell_type": "raw",
     "metadata": {},
     "source": [
      "Rupa Dachere"
     ]
    },
    {
     "cell_type": "raw",
     "metadata": {},
     "source": []
    }
   ],
   "metadata": {}
  }
 ]
}