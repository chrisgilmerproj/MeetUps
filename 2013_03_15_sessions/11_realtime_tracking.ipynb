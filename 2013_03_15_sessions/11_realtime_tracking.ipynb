{
 "metadata": {
  "name": "11_realtime_tracking"
 },
 "nbformat": 3,
 "nbformat_minor": 0,
 "worksheets": [
  {
   "cells": [
    {
     "cell_type": "heading",
     "level": 2,
     "metadata": {},
     "source": [
      "Realtime Tracking and Mapping of Geographic Objects using Python"
     ]
    },
    {
     "cell_type": "raw",
     "metadata": {},
     "source": [
      "Ragi Burhum"
     ]
    },
    {
     "cell_type": "raw",
     "metadata": {},
     "source": []
    }
   ],
   "metadata": {}
  }
 ]
}