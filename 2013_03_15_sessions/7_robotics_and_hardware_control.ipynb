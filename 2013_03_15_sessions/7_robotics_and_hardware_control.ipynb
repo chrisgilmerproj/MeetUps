{
 "metadata": {
  "name": "7_robotics_and_hardware_control"
 },
 "nbformat": 3,
 "nbformat_minor": 0,
 "worksheets": [
  {
   "cells": [
    {
     "cell_type": "heading",
     "level": 2,
     "metadata": {},
     "source": [
      "Python for Robotics and Hardware Control"
     ]
    },
    {
     "cell_type": "code",
     "collapsed": false,
     "input": [],
     "language": "python",
     "metadata": {},
     "outputs": []
    }
   ],
   "metadata": {}
  }
 ]
}